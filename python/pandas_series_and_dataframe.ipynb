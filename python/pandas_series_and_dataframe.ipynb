{
 "cells": [
  {
   "cell_type": "markdown",
   "id": "0d9ec7c2-7cb5-472d-8989-b83308ce59d0",
   "metadata": {},
   "source": [
    "## 1 Series\n",
    "#### 1.1 Creation\n",
    "A Pandas Series is a one-dimensional array-like object that can hold various data types such as integers, floats, and strings. It is similar to a column in a table or a spreadsheet.\n",
    "\n",
    "```python\n",
    "# Creating a Series from a list\n",
    "data = [1, 2, 3, 4, 5]\n",
    "series = pd.Series(data)\n",
    "series\n",
    "\n",
    "# Creating a Series with custom index\n",
    "data = [1, 2, None, 4, 'c']\n",
    "index = ['a', 'b', 'c', 'd', 'e']\n",
    "series = pd.Series(data, index=index)\n",
    "series"
   ]
  },
  {
   "cell_type": "code",
   "execution_count": 2,
   "id": "750ac663-cec9-4f98-991c-4c118d126709",
   "metadata": {},
   "outputs": [],
   "source": [
    "import pandas as pd"
   ]
  },
  {
   "cell_type": "code",
   "execution_count": 3,
   "id": "752e7470-a5aa-4a61-a5d6-b84300aadb49",
   "metadata": {},
   "outputs": [
    {
     "data": {
      "text/plain": [
       "0    1\n",
       "1    2\n",
       "2    3\n",
       "3    4\n",
       "4    5\n",
       "dtype: int64"
      ]
     },
     "execution_count": 3,
     "metadata": {},
     "output_type": "execute_result"
    }
   ],
   "source": [
    "# Creating a Series from a list\n",
    "data = [1, 2, 3, 4, 5]\n",
    "series = pd.Series(data)\n",
    "series"
   ]
  },
  {
   "cell_type": "code",
   "execution_count": 4,
   "id": "901de675-75b6-42f3-87a7-783b64c2cfa9",
   "metadata": {},
   "outputs": [
    {
     "data": {
      "text/plain": [
       "a       1\n",
       "b       2\n",
       "c    None\n",
       "d       4\n",
       "e       c\n",
       "dtype: object"
      ]
     },
     "execution_count": 4,
     "metadata": {},
     "output_type": "execute_result"
    }
   ],
   "source": [
    "# Creating a Series with custom index\n",
    "data = [1, 2, None, 4, 'c']\n",
    "index = ['a', 'b', 'c', 'd', 'e']\n",
    "series = pd.Series(data, index=index)\n",
    "series"
   ]
  },
  {
   "cell_type": "markdown",
   "id": "fcf09f23-d745-4bc8-a851-39eab0bc3b4f",
   "metadata": {},
   "source": [
    "## 1.2 Attributes and Methods\n",
    "Pandas Series comes with a variety of attributes and methods that make data manipulation straightforward. Here are some of the commonly used attributes and methods:\n",
    "\n",
    "| **Method/Attribute** | **Description**                                      | **Example Code**                                             |\n",
    "|----------------------|------------------------------------------------------|--------------------------------------------------------------|\n",
    "| `series.sum()`       | Calculates the sum of the Series.                    | `series.sum()`                                               |\n",
    "| `series.mean()`      | Calculates the mean of the Series.                   | `series.mean()`                                              |\n",
    "| `series.max()`       | Finds the maximum value in the Series.               | `series.max()`                                               |\n",
    "| `series.isnull()`    | Checks for null values in the Series, returns a Boolean Series. | `series_with_nan.isnull()`                                   |\n",
    "| `series.notnull()`   | Checks for non-null values in the Series, returns a Boolean Series. | `series_with_nan.notnull()`                                  |\n",
    "| `series.fillna()`    | Fills null values with the specified value.          | `series_with_nan.fillna(0)`                                  |\n",
    "| `series.apply()`     | Applies a function to each element of the Series.    | `series.apply(lambda x: x ** 2)`                             |\n",
    "| `series.count()`     | Counts the non-null elements in the Series.          | `series.count()`                                             |\n",
    "| `series.std()`       | Calculates the standard deviation of the Series.     | `series.std()`                                               |\n",
    "| `series.median()`    | Calculates the median of the Series.                 | `series.median()`                                            |\n",
    "| `series.quantile()`  | Calculates the specified quantile of the Series.     | `series.quantile(0.25)`                                      |\n",
    "| `series.value_counts()` | Counts the occurrences of each value in the Series.  | `series.value_counts()`                                      |\n",
    "| `series.sort_values()` | Sorts the Series by its values.                      | `series.sort_values()`                                       |\n",
    "| `series.rank()`         | Ranks the values in the Series.                     | `series.rank()`                                              |\n",
    "| `series.cumsum()`       | Calculates the cumulative sum of the Series.        | `series.cumsum()`                                            |\n",
    "| `series.shift()`        | Shifts the values in the Series by the specified number of periods. | `series.shift(1)`                                            |\n",
    "| `np.log(series)`        | Applies the NumPy log function to the Series.       | `np.log(series)`                                             |\n",
    "| `series.reindex()`      | Reindexes the Series with the specified index, filling missing values with the specified value. | `series.reindex(['a', 'b', 'c', 'd', 'e', 'f'], fill_value=0)` |\n"
   ]
  },
  {
   "cell_type": "markdown",
   "id": "83325849-3ebb-4b44-8add-79b5dad8150f",
   "metadata": {},
   "source": [
    "# 2. DataFrame\n",
    "## 2.1 Creation\n",
    "A Pandas DataFrame is a two-dimensional, size-mutable, and potentially heterogeneous tabular data structure with labeled axes (rows and columns).\n",
    "```python\n",
    "import pandas as pd\n",
    "\n",
    "# Creating a DataFrame from a dictionary\n",
    "data = {\n",
    "    'A': [1, 2, 3, 4, 5],\n",
    "    'B': [10, 20, 30, 40, 50],\n",
    "    'C': ['foo', 'bar', 'baz', 'qux', 'quux']\n",
    "}\n",
    "df = pd.DataFrame(data)\n",
    "print(\"DataFrame from dictionary:\\n\", df)\n",
    "\n",
    "# Creating a DataFrame from a list of dictionaries\n",
    "data = [\n",
    "    {'A': 1, 'B': 10, 'C': 'foo'},\n",
    "    {'A': 2, 'B': 20, 'C': 'bar'},\n",
    "    {'A': 3, 'B': 30, 'C': 'baz'}\n",
    "]\n",
    "df = pd.DataFrame(data)\n",
    "print(\"DataFrame from list of dictionaries:\\n\", df)\n",
    "\n",
    "# Creating a DataFrame from a list of lists\n",
    "data = [\n",
    "    [1, 10, 'foo'],\n",
    "    [2, 20, 'bar'],\n",
    "    [3, 30, 'baz']\n",
    "]\n",
    "columns = ['A', 'B', 'C']\n",
    "df = pd.DataFrame(data, columns=columns)\n",
    "print(\"DataFrame from list of lists:\\n\", df)"
   ]
  },
  {
   "cell_type": "code",
   "execution_count": 7,
   "id": "6537e424-9b9f-4285-8084-cf0ac44d9164",
   "metadata": {},
   "outputs": [
    {
     "data": {
      "text/html": [
       "<div>\n",
       "<style scoped>\n",
       "    .dataframe tbody tr th:only-of-type {\n",
       "        vertical-align: middle;\n",
       "    }\n",
       "\n",
       "    .dataframe tbody tr th {\n",
       "        vertical-align: top;\n",
       "    }\n",
       "\n",
       "    .dataframe thead th {\n",
       "        text-align: right;\n",
       "    }\n",
       "</style>\n",
       "<table border=\"1\" class=\"dataframe\">\n",
       "  <thead>\n",
       "    <tr style=\"text-align: right;\">\n",
       "      <th></th>\n",
       "      <th>A</th>\n",
       "      <th>B</th>\n",
       "      <th>C</th>\n",
       "    </tr>\n",
       "  </thead>\n",
       "  <tbody>\n",
       "    <tr>\n",
       "      <th>0</th>\n",
       "      <td>1</td>\n",
       "      <td>10</td>\n",
       "      <td>foo</td>\n",
       "    </tr>\n",
       "    <tr>\n",
       "      <th>1</th>\n",
       "      <td>2</td>\n",
       "      <td>20</td>\n",
       "      <td>bar</td>\n",
       "    </tr>\n",
       "    <tr>\n",
       "      <th>2</th>\n",
       "      <td>3</td>\n",
       "      <td>30</td>\n",
       "      <td>baz</td>\n",
       "    </tr>\n",
       "    <tr>\n",
       "      <th>3</th>\n",
       "      <td>4</td>\n",
       "      <td>40</td>\n",
       "      <td>qux</td>\n",
       "    </tr>\n",
       "    <tr>\n",
       "      <th>4</th>\n",
       "      <td>5</td>\n",
       "      <td>50</td>\n",
       "      <td>quux</td>\n",
       "    </tr>\n",
       "  </tbody>\n",
       "</table>\n",
       "</div>"
      ],
      "text/plain": [
       "   A   B     C\n",
       "0  1  10   foo\n",
       "1  2  20   bar\n",
       "2  3  30   baz\n",
       "3  4  40   qux\n",
       "4  5  50  quux"
      ]
     },
     "execution_count": 7,
     "metadata": {},
     "output_type": "execute_result"
    }
   ],
   "source": [
    "# Creating a DataFrame from a dictionary\n",
    "data = {\n",
    "    'A': [1, 2, 3, 4, 5],\n",
    "    'B': [10, 20, 30, 40, 50],\n",
    "    'C': ['foo', 'bar', 'baz', 'qux', 'quux']\n",
    "}\n",
    "df = pd.DataFrame(data)\n",
    "df"
   ]
  },
  {
   "cell_type": "code",
   "execution_count": 8,
   "id": "e83b8da4-ae0e-476e-9608-6bc3b18e5148",
   "metadata": {},
   "outputs": [
    {
     "data": {
      "text/html": [
       "<div>\n",
       "<style scoped>\n",
       "    .dataframe tbody tr th:only-of-type {\n",
       "        vertical-align: middle;\n",
       "    }\n",
       "\n",
       "    .dataframe tbody tr th {\n",
       "        vertical-align: top;\n",
       "    }\n",
       "\n",
       "    .dataframe thead th {\n",
       "        text-align: right;\n",
       "    }\n",
       "</style>\n",
       "<table border=\"1\" class=\"dataframe\">\n",
       "  <thead>\n",
       "    <tr style=\"text-align: right;\">\n",
       "      <th></th>\n",
       "      <th>A</th>\n",
       "      <th>B</th>\n",
       "      <th>C</th>\n",
       "    </tr>\n",
       "  </thead>\n",
       "  <tbody>\n",
       "    <tr>\n",
       "      <th>0</th>\n",
       "      <td>1</td>\n",
       "      <td>10</td>\n",
       "      <td>foo</td>\n",
       "    </tr>\n",
       "    <tr>\n",
       "      <th>1</th>\n",
       "      <td>2</td>\n",
       "      <td>20</td>\n",
       "      <td>bar</td>\n",
       "    </tr>\n",
       "    <tr>\n",
       "      <th>2</th>\n",
       "      <td>3</td>\n",
       "      <td>30</td>\n",
       "      <td>baz</td>\n",
       "    </tr>\n",
       "  </tbody>\n",
       "</table>\n",
       "</div>"
      ],
      "text/plain": [
       "   A   B    C\n",
       "0  1  10  foo\n",
       "1  2  20  bar\n",
       "2  3  30  baz"
      ]
     },
     "execution_count": 8,
     "metadata": {},
     "output_type": "execute_result"
    }
   ],
   "source": [
    "# Creating a DataFrame from a list of dictionaries\n",
    "data = [\n",
    "    {'A': 1, 'B': 10, 'C': 'foo'},\n",
    "    {'A': 2, 'B': 20, 'C': 'bar'},\n",
    "    {'A': 3, 'B': 30, 'C': 'baz'}\n",
    "]\n",
    "df = pd.DataFrame(data)\n",
    "df"
   ]
  },
  {
   "cell_type": "code",
   "execution_count": 9,
   "id": "d922d8ea-671a-424f-afe6-ff4a1ce97760",
   "metadata": {},
   "outputs": [
    {
     "data": {
      "text/html": [
       "<div>\n",
       "<style scoped>\n",
       "    .dataframe tbody tr th:only-of-type {\n",
       "        vertical-align: middle;\n",
       "    }\n",
       "\n",
       "    .dataframe tbody tr th {\n",
       "        vertical-align: top;\n",
       "    }\n",
       "\n",
       "    .dataframe thead th {\n",
       "        text-align: right;\n",
       "    }\n",
       "</style>\n",
       "<table border=\"1\" class=\"dataframe\">\n",
       "  <thead>\n",
       "    <tr style=\"text-align: right;\">\n",
       "      <th></th>\n",
       "      <th>A</th>\n",
       "      <th>B</th>\n",
       "      <th>C</th>\n",
       "    </tr>\n",
       "  </thead>\n",
       "  <tbody>\n",
       "    <tr>\n",
       "      <th>0</th>\n",
       "      <td>1</td>\n",
       "      <td>10</td>\n",
       "      <td>foo</td>\n",
       "    </tr>\n",
       "    <tr>\n",
       "      <th>1</th>\n",
       "      <td>2</td>\n",
       "      <td>20</td>\n",
       "      <td>bar</td>\n",
       "    </tr>\n",
       "    <tr>\n",
       "      <th>2</th>\n",
       "      <td>3</td>\n",
       "      <td>30</td>\n",
       "      <td>baz</td>\n",
       "    </tr>\n",
       "  </tbody>\n",
       "</table>\n",
       "</div>"
      ],
      "text/plain": [
       "   A   B    C\n",
       "0  1  10  foo\n",
       "1  2  20  bar\n",
       "2  3  30  baz"
      ]
     },
     "execution_count": 9,
     "metadata": {},
     "output_type": "execute_result"
    }
   ],
   "source": [
    "# Creating a DataFrame from a list of lists\n",
    "data = [\n",
    "    [1, 10, 'foo'],\n",
    "    [2, 20, 'bar'],\n",
    "    [3, 30, 'baz']\n",
    "]\n",
    "columns = ['A', 'B', 'C']\n",
    "df = pd.DataFrame(data, columns=columns)\n",
    "df"
   ]
  },
  {
   "cell_type": "markdown",
   "id": "695fa41e-722e-4876-b711-80868702ea83",
   "metadata": {},
   "source": [
    "## 2.2. Attributes and Methods\n",
    "Pandas DataFrame comes with a variety of attributes and methods that make data manipulation straightforward. Here are some of the commonly used attributes and methods:\n",
    "\n",
    "| **Attribute/Method** | **Description**                                         | **Example Code**                                                |\n",
    "|----------------------|---------------------------------------------------------|-----------------------------------------------------------------|\n",
    "| `df.shape`           | Returns a tuple representing the dimensionality of the DataFrame. | `df.shape`                                                     |\n",
    "| `df.columns`         | Returns the column labels of the DataFrame.             | `df.columns`                                                   |\n",
    "| `df.index`           | Returns the row labels of the DataFrame.                | `df.index`                                                     |\n",
    "| `df.dtypes`          | Returns the data types of each column in the DataFrame. | `df.dtypes`                                                    |\n",
    "| `df.head()`          | Returns the first n rows of the DataFrame (default is 5). | `df.head()`                                                    |\n",
    "| `df.tail()`          | Returns the last n rows of the DataFrame (default is 5). | `df.tail()`                                                    |\n",
    "| `df.describe()`      | Generates descriptive statistics of numeric columns.    | `df.describe()`                                                |\n",
    "| `df.sum()`           | Returns the sum of the values for each column.          | `df.sum()`                                                     |\n",
    "| `df.mean()`          | Returns the mean of the values for each column.         | `df.mean()`                                                    |\n",
    "| `df.max()`           | Returns the maximum value of each column.               | `df.max()`                                                     |\n",
    "| `df['column_name']`  | Selects a column.                                        | `df['A']`                                                      |\n",
    "| `df[['col1', 'col2']]` | Selects multiple columns.                               | `df[['A', 'B']]`                                               |\n",
    "| `df[start:stop]`     | Selects rows by slicing (start is inclusive, stop is exclusive). | `df[0:3]`                                                      |\n",
    "| `df.loc[]`           | Accesses a group of rows and columns by labels or a boolean array. | `df.loc[2:4, 'A']`                                             |\n",
    "| `df.iloc[]`          | Accesses a group of rows and columns by integer position. | `df.iloc[2:5, 0]`                                              |\n",
    "| `df[df['col'] > value]` | Selects rows where the column value meets a condition.    | `df[df['A'] > 2]`                                              |\n",
    "| `df.drop()`          | Drops specified labels from rows or columns.            | `df.drop('D', axis=1)`                                         |\n",
    "| `df.sort_values()`   | Sorts the DataFrame by the values of one or more columns. | `df.sort_values(by='B', ascending=False)`                      |\n",
    "| `df.fillna()`        | Fills missing values with a specified value.            | `df.fillna(0)`                                                 |\n",
    "| `df.apply()`         | Applies a function along an axis of the DataFrame.      | `df['A'].apply(lambda x: x ** 2)`                              |\n",
    "| `df.cumsum()`        | Returns the cumulative sum over a DataFrame or Series.  | `df.cumsum()`                                                  |\n",
    "| `df.reindex()`       | Conforms the DataFrame to a new index with optional filling logic. | `df.reindex(['a', 'b', 'c', 'd', 'e', 'f'], fill_value=0)`     |\n",
    "| `df.value_counts()`  | Returns a Series containing counts of unique values.    | `df['A'].value_counts()`                                       |\n",
    "| `df.std()`           | Returns the standard deviation of the values for each column. | `df.std()`                                                     |\n",
    "| `df.median()`        | Returns the median of the values for each column.       | `df.median()`                                                  |\n",
    "| `df.quantile()`      | Returns values at the given quantile over requested axis. | `df.quantile(0.25)`                                            |\n",
    "| `df.rank()`          | Computes numerical data ranks (1 through n) along axis. | `df.rank()`                                                    |\n",
    "| `df.shift()`         | Shifts the values in the DataFrame by the desired number of periods. | `df.shift(1)`                                                  |\n",
    "| `np.log(df)`         | Applies the NumPy log function to the DataFrame.        | `np.log(df)`                                                   |\n"
   ]
  },
  {
   "cell_type": "code",
   "execution_count": 10,
   "id": "3e2930f7-7feb-44fc-a8c7-7eb4208f6797",
   "metadata": {},
   "outputs": [
    {
     "data": {
      "text/html": [
       "<div>\n",
       "<style scoped>\n",
       "    .dataframe tbody tr th:only-of-type {\n",
       "        vertical-align: middle;\n",
       "    }\n",
       "\n",
       "    .dataframe tbody tr th {\n",
       "        vertical-align: top;\n",
       "    }\n",
       "\n",
       "    .dataframe thead th {\n",
       "        text-align: right;\n",
       "    }\n",
       "</style>\n",
       "<table border=\"1\" class=\"dataframe\">\n",
       "  <thead>\n",
       "    <tr style=\"text-align: right;\">\n",
       "      <th></th>\n",
       "      <th>A</th>\n",
       "      <th>B</th>\n",
       "      <th>C</th>\n",
       "    </tr>\n",
       "  </thead>\n",
       "  <tbody>\n",
       "    <tr>\n",
       "      <th>0</th>\n",
       "      <td>1</td>\n",
       "      <td>10</td>\n",
       "      <td>foo</td>\n",
       "    </tr>\n",
       "    <tr>\n",
       "      <th>1</th>\n",
       "      <td>2</td>\n",
       "      <td>20</td>\n",
       "      <td>bar</td>\n",
       "    </tr>\n",
       "    <tr>\n",
       "      <th>2</th>\n",
       "      <td>3</td>\n",
       "      <td>30</td>\n",
       "      <td>baz</td>\n",
       "    </tr>\n",
       "    <tr>\n",
       "      <th>3</th>\n",
       "      <td>4</td>\n",
       "      <td>40</td>\n",
       "      <td>qux</td>\n",
       "    </tr>\n",
       "    <tr>\n",
       "      <th>4</th>\n",
       "      <td>5</td>\n",
       "      <td>50</td>\n",
       "      <td>quux</td>\n",
       "    </tr>\n",
       "  </tbody>\n",
       "</table>\n",
       "</div>"
      ],
      "text/plain": [
       "   A   B     C\n",
       "0  1  10   foo\n",
       "1  2  20   bar\n",
       "2  3  30   baz\n",
       "3  4  40   qux\n",
       "4  5  50  quux"
      ]
     },
     "execution_count": 10,
     "metadata": {},
     "output_type": "execute_result"
    }
   ],
   "source": [
    "# Sample DataFrame\n",
    "data = {\n",
    "    'A': [1, 2, 3, 4, 5],\n",
    "    'B': [10, 20, 30, 40, 50],\n",
    "    'C': ['foo', 'bar', 'baz', 'qux', 'quux']\n",
    "}\n",
    "df = pd.DataFrame(data)\n",
    "df"
   ]
  },
  {
   "cell_type": "code",
   "execution_count": 11,
   "id": "f6af6e19-c598-45b7-9c83-9447e7c81033",
   "metadata": {},
   "outputs": [
    {
     "data": {
      "text/plain": [
       "(5, 3)"
      ]
     },
     "execution_count": 11,
     "metadata": {},
     "output_type": "execute_result"
    }
   ],
   "source": [
    "df.shape"
   ]
  },
  {
   "cell_type": "code",
   "execution_count": 12,
   "id": "0052ab34-8f32-4078-818f-f556e7f0710a",
   "metadata": {},
   "outputs": [
    {
     "data": {
      "text/plain": [
       "Index(['A', 'B', 'C'], dtype='object')"
      ]
     },
     "execution_count": 12,
     "metadata": {},
     "output_type": "execute_result"
    }
   ],
   "source": [
    "df.columns"
   ]
  },
  {
   "cell_type": "code",
   "execution_count": 13,
   "id": "c3004159-8625-4036-8df7-283a3b501d94",
   "metadata": {},
   "outputs": [
    {
     "data": {
      "text/plain": [
       "RangeIndex(start=0, stop=5, step=1)"
      ]
     },
     "execution_count": 13,
     "metadata": {},
     "output_type": "execute_result"
    }
   ],
   "source": [
    "df.index"
   ]
  },
  {
   "cell_type": "code",
   "execution_count": 14,
   "id": "ad0c7edb-5bc7-48a5-8cd6-8e86afe26595",
   "metadata": {},
   "outputs": [
    {
     "data": {
      "text/plain": [
       "A     int64\n",
       "B     int64\n",
       "C    object\n",
       "dtype: object"
      ]
     },
     "execution_count": 14,
     "metadata": {},
     "output_type": "execute_result"
    }
   ],
   "source": [
    "df.dtypes"
   ]
  },
  {
   "cell_type": "code",
   "execution_count": 15,
   "id": "fe9f335a-dcc3-4b07-a1d9-273e48efbc2d",
   "metadata": {},
   "outputs": [
    {
     "name": "stdout",
     "output_type": "stream",
     "text": [
      "DataFrame description:\n",
      "               A          B\n",
      "count  5.000000   5.000000\n",
      "mean   3.000000  30.000000\n",
      "std    1.581139  15.811388\n",
      "min    1.000000  10.000000\n",
      "25%    2.000000  20.000000\n",
      "50%    3.000000  30.000000\n",
      "75%    4.000000  40.000000\n",
      "max    5.000000  50.000000\n",
      "Sum of each column:\n",
      " A     15\n",
      "B    150\n",
      "dtype: int64\n",
      "Mean of each column:\n",
      " A     3.0\n",
      "B    30.0\n",
      "dtype: float64\n",
      "Max of each column:\n",
      " A     5\n",
      "B    50\n",
      "dtype: int64\n"
     ]
    }
   ],
   "source": [
    "# Basic statistics (only numeric columns)\n",
    "print(\"DataFrame description:\\n\", df.describe(include=[int, float]))\n",
    "print(\"Sum of each column:\\n\", df.sum(numeric_only=True))\n",
    "print(\"Mean of each column:\\n\", df.mean(numeric_only=True))\n",
    "print(\"Max of each column:\\n\", df.max(numeric_only=True))"
   ]
  },
  {
   "cell_type": "code",
   "execution_count": 17,
   "id": "8c4a1f12-6836-44c2-8954-47a500b40b8e",
   "metadata": {},
   "outputs": [
    {
     "data": {
      "text/html": [
       "<div>\n",
       "<style scoped>\n",
       "    .dataframe tbody tr th:only-of-type {\n",
       "        vertical-align: middle;\n",
       "    }\n",
       "\n",
       "    .dataframe tbody tr th {\n",
       "        vertical-align: top;\n",
       "    }\n",
       "\n",
       "    .dataframe thead th {\n",
       "        text-align: right;\n",
       "    }\n",
       "</style>\n",
       "<table border=\"1\" class=\"dataframe\">\n",
       "  <thead>\n",
       "    <tr style=\"text-align: right;\">\n",
       "      <th></th>\n",
       "      <th>A</th>\n",
       "      <th>B</th>\n",
       "      <th>C</th>\n",
       "      <th>A_squared</th>\n",
       "    </tr>\n",
       "  </thead>\n",
       "  <tbody>\n",
       "    <tr>\n",
       "      <th>2</th>\n",
       "      <td>3</td>\n",
       "      <td>30</td>\n",
       "      <td>baz</td>\n",
       "      <td>9</td>\n",
       "    </tr>\n",
       "    <tr>\n",
       "      <th>3</th>\n",
       "      <td>4</td>\n",
       "      <td>40</td>\n",
       "      <td>qux</td>\n",
       "      <td>16</td>\n",
       "    </tr>\n",
       "    <tr>\n",
       "      <th>4</th>\n",
       "      <td>5</td>\n",
       "      <td>50</td>\n",
       "      <td>quux</td>\n",
       "      <td>25</td>\n",
       "    </tr>\n",
       "  </tbody>\n",
       "</table>\n",
       "</div>"
      ],
      "text/plain": [
       "   A   B     C  A_squared\n",
       "2  3  30   baz          9\n",
       "3  4  40   qux         16\n",
       "4  5  50  quux         25"
      ]
     },
     "execution_count": 17,
     "metadata": {},
     "output_type": "execute_result"
    }
   ],
   "source": [
    "# Conditional selection\n",
    "df[df['A'] > 2]"
   ]
  },
  {
   "cell_type": "code",
   "execution_count": 18,
   "id": "e52976c4-dae6-427f-98b7-78ebe5e3b241",
   "metadata": {},
   "outputs": [
    {
     "data": {
      "text/html": [
       "<div>\n",
       "<style scoped>\n",
       "    .dataframe tbody tr th:only-of-type {\n",
       "        vertical-align: middle;\n",
       "    }\n",
       "\n",
       "    .dataframe tbody tr th {\n",
       "        vertical-align: top;\n",
       "    }\n",
       "\n",
       "    .dataframe thead th {\n",
       "        text-align: right;\n",
       "    }\n",
       "</style>\n",
       "<table border=\"1\" class=\"dataframe\">\n",
       "  <thead>\n",
       "    <tr style=\"text-align: right;\">\n",
       "      <th></th>\n",
       "      <th>A</th>\n",
       "      <th>B</th>\n",
       "    </tr>\n",
       "  </thead>\n",
       "  <tbody>\n",
       "    <tr>\n",
       "      <th>2</th>\n",
       "      <td>3</td>\n",
       "      <td>30</td>\n",
       "    </tr>\n",
       "    <tr>\n",
       "      <th>3</th>\n",
       "      <td>4</td>\n",
       "      <td>40</td>\n",
       "    </tr>\n",
       "    <tr>\n",
       "      <th>4</th>\n",
       "      <td>5</td>\n",
       "      <td>50</td>\n",
       "    </tr>\n",
       "  </tbody>\n",
       "</table>\n",
       "</div>"
      ],
      "text/plain": [
       "   A   B\n",
       "2  3  30\n",
       "3  4  40\n",
       "4  5  50"
      ]
     },
     "execution_count": 18,
     "metadata": {},
     "output_type": "execute_result"
    }
   ],
   "source": [
    "df.loc[2:4, ['A', 'B']]"
   ]
  },
  {
   "cell_type": "code",
   "execution_count": 19,
   "id": "39c71c22-cd23-4d74-81cf-071fd29ecf7d",
   "metadata": {},
   "outputs": [
    {
     "data": {
      "text/html": [
       "<div>\n",
       "<style scoped>\n",
       "    .dataframe tbody tr th:only-of-type {\n",
       "        vertical-align: middle;\n",
       "    }\n",
       "\n",
       "    .dataframe tbody tr th {\n",
       "        vertical-align: top;\n",
       "    }\n",
       "\n",
       "    .dataframe thead th {\n",
       "        text-align: right;\n",
       "    }\n",
       "</style>\n",
       "<table border=\"1\" class=\"dataframe\">\n",
       "  <thead>\n",
       "    <tr style=\"text-align: right;\">\n",
       "      <th></th>\n",
       "      <th>A</th>\n",
       "      <th>B</th>\n",
       "      <th>C</th>\n",
       "      <th>A_squared</th>\n",
       "      <th>D</th>\n",
       "    </tr>\n",
       "  </thead>\n",
       "  <tbody>\n",
       "    <tr>\n",
       "      <th>0</th>\n",
       "      <td>1</td>\n",
       "      <td>10</td>\n",
       "      <td>foo</td>\n",
       "      <td>1</td>\n",
       "      <td>11</td>\n",
       "    </tr>\n",
       "    <tr>\n",
       "      <th>1</th>\n",
       "      <td>2</td>\n",
       "      <td>20</td>\n",
       "      <td>bar</td>\n",
       "      <td>4</td>\n",
       "      <td>22</td>\n",
       "    </tr>\n",
       "    <tr>\n",
       "      <th>2</th>\n",
       "      <td>3</td>\n",
       "      <td>30</td>\n",
       "      <td>baz</td>\n",
       "      <td>9</td>\n",
       "      <td>33</td>\n",
       "    </tr>\n",
       "    <tr>\n",
       "      <th>3</th>\n",
       "      <td>4</td>\n",
       "      <td>40</td>\n",
       "      <td>qux</td>\n",
       "      <td>16</td>\n",
       "      <td>44</td>\n",
       "    </tr>\n",
       "    <tr>\n",
       "      <th>4</th>\n",
       "      <td>5</td>\n",
       "      <td>50</td>\n",
       "      <td>quux</td>\n",
       "      <td>25</td>\n",
       "      <td>55</td>\n",
       "    </tr>\n",
       "  </tbody>\n",
       "</table>\n",
       "</div>"
      ],
      "text/plain": [
       "   A   B     C  A_squared   D\n",
       "0  1  10   foo          1  11\n",
       "1  2  20   bar          4  22\n",
       "2  3  30   baz          9  33\n",
       "3  4  40   qux         16  44\n",
       "4  5  50  quux         25  55"
      ]
     },
     "execution_count": 19,
     "metadata": {},
     "output_type": "execute_result"
    }
   ],
   "source": [
    "# Adding new columns\n",
    "df['D'] = df['A'] + df['B']\n",
    "df"
   ]
  },
  {
   "cell_type": "code",
   "execution_count": 20,
   "id": "d3f8992c-f845-48b1-8134-4678dffdb248",
   "metadata": {},
   "outputs": [
    {
     "data": {
      "text/html": [
       "<div>\n",
       "<style scoped>\n",
       "    .dataframe tbody tr th:only-of-type {\n",
       "        vertical-align: middle;\n",
       "    }\n",
       "\n",
       "    .dataframe tbody tr th {\n",
       "        vertical-align: top;\n",
       "    }\n",
       "\n",
       "    .dataframe thead th {\n",
       "        text-align: right;\n",
       "    }\n",
       "</style>\n",
       "<table border=\"1\" class=\"dataframe\">\n",
       "  <thead>\n",
       "    <tr style=\"text-align: right;\">\n",
       "      <th></th>\n",
       "      <th>A</th>\n",
       "      <th>B</th>\n",
       "      <th>C</th>\n",
       "      <th>A_squared</th>\n",
       "    </tr>\n",
       "  </thead>\n",
       "  <tbody>\n",
       "    <tr>\n",
       "      <th>0</th>\n",
       "      <td>1</td>\n",
       "      <td>10</td>\n",
       "      <td>foo</td>\n",
       "      <td>1</td>\n",
       "    </tr>\n",
       "    <tr>\n",
       "      <th>1</th>\n",
       "      <td>2</td>\n",
       "      <td>20</td>\n",
       "      <td>bar</td>\n",
       "      <td>4</td>\n",
       "    </tr>\n",
       "    <tr>\n",
       "      <th>2</th>\n",
       "      <td>3</td>\n",
       "      <td>30</td>\n",
       "      <td>baz</td>\n",
       "      <td>9</td>\n",
       "    </tr>\n",
       "    <tr>\n",
       "      <th>3</th>\n",
       "      <td>4</td>\n",
       "      <td>40</td>\n",
       "      <td>qux</td>\n",
       "      <td>16</td>\n",
       "    </tr>\n",
       "    <tr>\n",
       "      <th>4</th>\n",
       "      <td>5</td>\n",
       "      <td>50</td>\n",
       "      <td>quux</td>\n",
       "      <td>25</td>\n",
       "    </tr>\n",
       "  </tbody>\n",
       "</table>\n",
       "</div>"
      ],
      "text/plain": [
       "   A   B     C  A_squared\n",
       "0  1  10   foo          1\n",
       "1  2  20   bar          4\n",
       "2  3  30   baz          9\n",
       "3  4  40   qux         16\n",
       "4  5  50  quux         25"
      ]
     },
     "execution_count": 20,
     "metadata": {},
     "output_type": "execute_result"
    }
   ],
   "source": [
    "# Dropping columns\n",
    "df.drop('D', axis=1)"
   ]
  },
  {
   "cell_type": "code",
   "execution_count": 21,
   "id": "588c11a3-00ac-4e19-b20d-86438d469117",
   "metadata": {},
   "outputs": [
    {
     "data": {
      "text/html": [
       "<div>\n",
       "<style scoped>\n",
       "    .dataframe tbody tr th:only-of-type {\n",
       "        vertical-align: middle;\n",
       "    }\n",
       "\n",
       "    .dataframe tbody tr th {\n",
       "        vertical-align: top;\n",
       "    }\n",
       "\n",
       "    .dataframe thead th {\n",
       "        text-align: right;\n",
       "    }\n",
       "</style>\n",
       "<table border=\"1\" class=\"dataframe\">\n",
       "  <thead>\n",
       "    <tr style=\"text-align: right;\">\n",
       "      <th></th>\n",
       "      <th>A</th>\n",
       "      <th>B</th>\n",
       "      <th>C</th>\n",
       "      <th>A_squared</th>\n",
       "      <th>D</th>\n",
       "    </tr>\n",
       "  </thead>\n",
       "  <tbody>\n",
       "    <tr>\n",
       "      <th>4</th>\n",
       "      <td>5</td>\n",
       "      <td>50</td>\n",
       "      <td>quux</td>\n",
       "      <td>25</td>\n",
       "      <td>55</td>\n",
       "    </tr>\n",
       "    <tr>\n",
       "      <th>3</th>\n",
       "      <td>4</td>\n",
       "      <td>40</td>\n",
       "      <td>qux</td>\n",
       "      <td>16</td>\n",
       "      <td>44</td>\n",
       "    </tr>\n",
       "    <tr>\n",
       "      <th>2</th>\n",
       "      <td>3</td>\n",
       "      <td>30</td>\n",
       "      <td>baz</td>\n",
       "      <td>9</td>\n",
       "      <td>33</td>\n",
       "    </tr>\n",
       "    <tr>\n",
       "      <th>1</th>\n",
       "      <td>2</td>\n",
       "      <td>20</td>\n",
       "      <td>bar</td>\n",
       "      <td>4</td>\n",
       "      <td>22</td>\n",
       "    </tr>\n",
       "    <tr>\n",
       "      <th>0</th>\n",
       "      <td>1</td>\n",
       "      <td>10</td>\n",
       "      <td>foo</td>\n",
       "      <td>1</td>\n",
       "      <td>11</td>\n",
       "    </tr>\n",
       "  </tbody>\n",
       "</table>\n",
       "</div>"
      ],
      "text/plain": [
       "   A   B     C  A_squared   D\n",
       "4  5  50  quux         25  55\n",
       "3  4  40   qux         16  44\n",
       "2  3  30   baz          9  33\n",
       "1  2  20   bar          4  22\n",
       "0  1  10   foo          1  11"
      ]
     },
     "execution_count": 21,
     "metadata": {},
     "output_type": "execute_result"
    }
   ],
   "source": [
    "# Sorting\n",
    "df.sort_values(by='B', ascending=False)"
   ]
  },
  {
   "cell_type": "code",
   "execution_count": 22,
   "id": "ebd902c2-3095-4464-8342-4a95d1360b9a",
   "metadata": {},
   "outputs": [
    {
     "data": {
      "text/html": [
       "<div>\n",
       "<style scoped>\n",
       "    .dataframe tbody tr th:only-of-type {\n",
       "        vertical-align: middle;\n",
       "    }\n",
       "\n",
       "    .dataframe tbody tr th {\n",
       "        vertical-align: top;\n",
       "    }\n",
       "\n",
       "    .dataframe thead th {\n",
       "        text-align: right;\n",
       "    }\n",
       "</style>\n",
       "<table border=\"1\" class=\"dataframe\">\n",
       "  <thead>\n",
       "    <tr style=\"text-align: right;\">\n",
       "      <th></th>\n",
       "      <th>A</th>\n",
       "      <th>B</th>\n",
       "      <th>C</th>\n",
       "      <th>A_squared</th>\n",
       "      <th>D</th>\n",
       "    </tr>\n",
       "  </thead>\n",
       "  <tbody>\n",
       "    <tr>\n",
       "      <th>0</th>\n",
       "      <td>1.0</td>\n",
       "      <td>10</td>\n",
       "      <td>foo</td>\n",
       "      <td>1</td>\n",
       "      <td>11</td>\n",
       "    </tr>\n",
       "    <tr>\n",
       "      <th>1</th>\n",
       "      <td>0.0</td>\n",
       "      <td>20</td>\n",
       "      <td>bar</td>\n",
       "      <td>4</td>\n",
       "      <td>22</td>\n",
       "    </tr>\n",
       "    <tr>\n",
       "      <th>2</th>\n",
       "      <td>3.0</td>\n",
       "      <td>30</td>\n",
       "      <td>baz</td>\n",
       "      <td>9</td>\n",
       "      <td>33</td>\n",
       "    </tr>\n",
       "    <tr>\n",
       "      <th>3</th>\n",
       "      <td>4.0</td>\n",
       "      <td>40</td>\n",
       "      <td>qux</td>\n",
       "      <td>16</td>\n",
       "      <td>44</td>\n",
       "    </tr>\n",
       "    <tr>\n",
       "      <th>4</th>\n",
       "      <td>5.0</td>\n",
       "      <td>50</td>\n",
       "      <td>quux</td>\n",
       "      <td>25</td>\n",
       "      <td>55</td>\n",
       "    </tr>\n",
       "  </tbody>\n",
       "</table>\n",
       "</div>"
      ],
      "text/plain": [
       "     A   B     C  A_squared   D\n",
       "0  1.0  10   foo          1  11\n",
       "1  0.0  20   bar          4  22\n",
       "2  3.0  30   baz          9  33\n",
       "3  4.0  40   qux         16  44\n",
       "4  5.0  50  quux         25  55"
      ]
     },
     "execution_count": 22,
     "metadata": {},
     "output_type": "execute_result"
    }
   ],
   "source": [
    "# Handling missing values\n",
    "df_with_nan = df.copy()\n",
    "df_with_nan.loc[1, 'A'] = None\n",
    "df_with_nan.fillna(0)"
   ]
  },
  {
   "cell_type": "code",
   "execution_count": 16,
   "id": "480abc99-773d-42c1-b2f3-37715ffc75bd",
   "metadata": {},
   "outputs": [
    {
     "data": {
      "text/html": [
       "<div>\n",
       "<style scoped>\n",
       "    .dataframe tbody tr th:only-of-type {\n",
       "        vertical-align: middle;\n",
       "    }\n",
       "\n",
       "    .dataframe tbody tr th {\n",
       "        vertical-align: top;\n",
       "    }\n",
       "\n",
       "    .dataframe thead th {\n",
       "        text-align: right;\n",
       "    }\n",
       "</style>\n",
       "<table border=\"1\" class=\"dataframe\">\n",
       "  <thead>\n",
       "    <tr style=\"text-align: right;\">\n",
       "      <th></th>\n",
       "      <th>A</th>\n",
       "      <th>B</th>\n",
       "      <th>C</th>\n",
       "      <th>A_squared</th>\n",
       "    </tr>\n",
       "  </thead>\n",
       "  <tbody>\n",
       "    <tr>\n",
       "      <th>0</th>\n",
       "      <td>1</td>\n",
       "      <td>10</td>\n",
       "      <td>foo</td>\n",
       "      <td>1</td>\n",
       "    </tr>\n",
       "    <tr>\n",
       "      <th>1</th>\n",
       "      <td>2</td>\n",
       "      <td>20</td>\n",
       "      <td>bar</td>\n",
       "      <td>4</td>\n",
       "    </tr>\n",
       "    <tr>\n",
       "      <th>2</th>\n",
       "      <td>3</td>\n",
       "      <td>30</td>\n",
       "      <td>baz</td>\n",
       "      <td>9</td>\n",
       "    </tr>\n",
       "    <tr>\n",
       "      <th>3</th>\n",
       "      <td>4</td>\n",
       "      <td>40</td>\n",
       "      <td>qux</td>\n",
       "      <td>16</td>\n",
       "    </tr>\n",
       "    <tr>\n",
       "      <th>4</th>\n",
       "      <td>5</td>\n",
       "      <td>50</td>\n",
       "      <td>quux</td>\n",
       "      <td>25</td>\n",
       "    </tr>\n",
       "  </tbody>\n",
       "</table>\n",
       "</div>"
      ],
      "text/plain": [
       "   A   B     C  A_squared\n",
       "0  1  10   foo          1\n",
       "1  2  20   bar          4\n",
       "2  3  30   baz          9\n",
       "3  4  40   qux         16\n",
       "4  5  50  quux         25"
      ]
     },
     "execution_count": 16,
     "metadata": {},
     "output_type": "execute_result"
    }
   ],
   "source": [
    "# Applying functions\n",
    "df['A_squared'] = df['A'].apply(lambda x: x ** 2)\n",
    "df"
   ]
  },
  {
   "cell_type": "code",
   "execution_count": 23,
   "id": "e2e85983-4b78-4b03-ab74-e71fc7eef236",
   "metadata": {},
   "outputs": [
    {
     "name": "stdout",
     "output_type": "stream",
     "text": [
      "     date_str  value       date\n",
      "0  2023-01-01     10 2023-01-01\n",
      "1  2023-01-02     20 2023-01-02\n",
      "2  2023-01-03     30 2023-01-03\n",
      "3  2023-01-04     40 2023-01-04\n"
     ]
    }
   ],
   "source": [
    "import pandas as pd\n",
    "\n",
    "# Example data\n",
    "data = {\n",
    "    'date_str': ['2023-01-01', '2023-01-02', '2023-01-03', '2023-01-04'],\n",
    "    'value': [10, 20, 30, 40]\n",
    "}\n",
    "\n",
    "df = pd.DataFrame(data)\n",
    "\n",
    "# Convert 'date_str' column to datetime\n",
    "df['date'] = pd.to_datetime(df['date_str'])\n",
    "\n",
    "print(df)\n"
   ]
  },
  {
   "cell_type": "code",
   "execution_count": 24,
   "id": "164bea9b-9967-4966-a52a-d627b9cd845c",
   "metadata": {},
   "outputs": [
    {
     "name": "stdout",
     "output_type": "stream",
     "text": [
      "              date_str  value                date  year  month  day  hour  \\\n",
      "0  2023-01-01 10:00:00     10 2023-01-01 10:00:00  2023      1    1    10   \n",
      "1  2023-01-02 11:00:00     20 2023-01-02 11:00:00  2023      1    2    11   \n",
      "2  2023-01-03 12:00:00     30 2023-01-03 12:00:00  2023      1    3    12   \n",
      "3  2023-01-04 13:00:00     40 2023-01-04 13:00:00  2023      1    4    13   \n",
      "\n",
      "   minute  second  \n",
      "0       0       0  \n",
      "1       0       0  \n",
      "2       0       0  \n",
      "3       0       0  \n"
     ]
    }
   ],
   "source": [
    "import pandas as pd\n",
    "\n",
    "# Example data\n",
    "data = {\n",
    "    'date_str': ['2023-01-01 10:00:00', '2023-01-02 11:00:00', '2023-01-03 12:00:00', '2023-01-04 13:00:00'],\n",
    "    'value': [10, 20, 30, 40]\n",
    "}\n",
    "\n",
    "df = pd.DataFrame(data)\n",
    "\n",
    "# Convert 'date_str' column to datetime\n",
    "df['date'] = pd.to_datetime(df['date_str'])\n",
    "\n",
    "# Extract components\n",
    "df['year'] = df['date'].dt.year\n",
    "df['month'] = df['date'].dt.month\n",
    "df['day'] = df['date'].dt.day\n",
    "df['hour'] = df['date'].dt.hour\n",
    "df['minute'] = df['date'].dt.minute\n",
    "df['second'] = df['date'].dt.second\n",
    "\n",
    "print(df)\n"
   ]
  },
  {
   "cell_type": "code",
   "execution_count": null,
   "id": "3dcf6d93-8d00-4aee-95a5-3eb3ced5ef42",
   "metadata": {},
   "outputs": [],
   "source": []
  }
 ],
 "metadata": {
  "kernelspec": {
   "display_name": "Python 3 (ipykernel)",
   "language": "python",
   "name": "python3"
  },
  "language_info": {
   "codemirror_mode": {
    "name": "ipython",
    "version": 3
   },
   "file_extension": ".py",
   "mimetype": "text/x-python",
   "name": "python",
   "nbconvert_exporter": "python",
   "pygments_lexer": "ipython3",
   "version": "3.8.5"
  }
 },
 "nbformat": 4,
 "nbformat_minor": 5
}
