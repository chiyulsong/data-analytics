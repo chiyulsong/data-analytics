{
 "cells": [
  {
   "cell_type": "markdown",
   "id": "58bdeb7e-a975-435a-a5ee-d105b1df3ff2",
   "metadata": {},
   "source": [
    "# Pandas Library Overview\n",
    "\n",
    "## Description\n",
    "\n",
    "This Jupyter Notebook is a comprehensive guide to the most commonly used features of the Pandas library. It includes detailed explanations and practical examples of various functions and methods used for data manipulation, analysis, and visualization. This notebook serves as a useful reference for anyone looking to understand and utilize the powerful capabilities of Pandas for data science and analytics."
   ]
  },
  {
   "cell_type": "markdown",
   "id": "0a18c7a9-d4b8-41f8-aab5-197f1f87b16f",
   "metadata": {},
   "source": [
    "## Table of Contents\n",
    "``` markdown\n",
    "1. [Introduction and Data Structures](#Introduction-and-Data-Structures)\n",
    "    1.1. Overview of Pandas Library\n",
    "    1.2. Installation\n",
    "    1.3. Series\n",
    "        1.3.1. Creation\n",
    "        1.3.2. Attributes and Methods\n",
    "    1.4. DataFrame\n",
    "        1.4.1. Creation\n",
    "        1.4.2. Attributes and Methods\n",
    "\n",
    "2. [Data Input, Output, and Exploration](#Data-Input-Output-and-Exploration)\n",
    "    2.1. Reading and Writing CSV Files\n",
    "    2.2. Reading and Writing Excel Files\n",
    "    2.3. Reading and Writing JSON Files\n",
    "    2.4. Connecting to and Querying SQL Databases\n",
    "    2.5. Previewing DataFrames (head, tail)\n",
    "    2.6. Summary Information (info, describe)\n",
    "    2.7. Checking and Converting Data Types (dtypes, astype)\n",
    "    2.8. Handling Missing Values (isnull, dropna, fillna)\n",
    "\n",
    "3. [Data Selection, Filtering, and Transformation](#Data-Selection-Filtering-and-Transformation)\n",
    "    3.1. Selecting Columns ([], loc, iloc)\n",
    "    3.2. Conditional Filtering\n",
    "    3.3. Using Queries (query)\n",
    "    3.4. Sampling Data (sample)\n",
    "    3.5. Sorting Data (sort_values, sort_index)\n",
    "    3.6. Merging DataFrames (merge, join)\n",
    "    3.7. Concatenating DataFrames (concat, append)\n",
    "    3.8. Grouping and Aggregating Data (groupby, agg)\n",
    "    3.9. Pivot Tables (pivot_table)\n",
    "    3.10. Removing Duplicates (duplicated, drop_duplicates)\n",
    "\n",
    "4. [Data Conversion, Computation, and Visualization](#Data-Conversion-Computation-and-Visualization)\n",
    "    4.1. Converting Data Types (astype)\n",
    "    4.2. Applying Functions (apply, map, applymap)\n",
    "    4.3. String Manipulation (str accessor)\n",
    "    4.4. Handling Date and Time Data (pd.to_datetime, dt accessor)\n",
    "    4.5. Basic Visualization (plot, hist, box, scatter)\n",
    "    4.6. Visualization with Seaborn\n",
    "\n",
    "5. [Advanced Topics and Practical Examples](#Advanced-Topics-and-Practical-Examples)\n",
    "    5.1. MultiIndex DataFrames\n",
    "    5.2. Reshaping DataFrames (melt, stack, unstack)\n",
    "    5.3. Applying Custom Functions (applymap, transform)\n",
    "    5.4. EDA Project Example\n",
    "    5.5. Machine Learning Data Preprocessing Example\n",
    "    5.6. Time Series Data Analysis Example\n",
    "```"
   ]
  },
  {
   "cell_type": "code",
   "execution_count": 17,
   "id": "2abe2c6d-8c95-4786-8f4d-3b0390002fb3",
   "metadata": {},
   "outputs": [],
   "source": [
    "import pandas as pd"
   ]
  },
  {
   "cell_type": "markdown",
   "id": "1ae1f4d2-13fb-4546-8f8f-ef54a9ee11b9",
   "metadata": {},
   "source": [
    "## 1. Introduction and Data Structures\n",
    "\n",
    "### 1.1. Overview of Pandas Library\n",
    "Pandas is a powerful and flexible open-source data analysis and manipulation library for Python. It provides data structures like Series and DataFrame, which are designed to make data manipulation and analysis fast and easy. Pandas is built on top of NumPy and is often used in conjunction with other libraries such as Matplotlib and Scikit-learn.\n",
    "\n",
    "### 1.2. Installation\n",
    "To install Pandas, you can use pip (Python's package installer) by running the following command in your terminal or command prompt:\n",
    "`!pip install pandas`\n",
    "\n",
    "### 1.3 Series\n",
    "#### 1.3.1 Creation\n",
    "A Pandas Series is a one-dimensional array-like object that can hold various data types such as integers, floats, and strings. It is similar to a column in a table or a spreadsheet."
   ]
  },
  {
   "cell_type": "code",
   "execution_count": null,
   "id": "322731ae-e536-4faa-a0fc-694c4458d5f0",
   "metadata": {},
   "outputs": [],
   "source": [
    "# Creating a Series from a list\n",
    "data = [1, 2, 3, 4, 5]\n",
    "series = pd.Series(data)\n",
    "series"
   ]
  },
  {
   "cell_type": "code",
   "execution_count": 25,
   "id": "2d19ccfc-2c05-4857-9402-c7e15382c8d0",
   "metadata": {},
   "outputs": [
    {
     "data": {
      "text/plain": [
       "a       1\n",
       "b       2\n",
       "c    None\n",
       "d       4\n",
       "e       c\n",
       "dtype: object"
      ]
     },
     "execution_count": 25,
     "metadata": {},
     "output_type": "execute_result"
    }
   ],
   "source": [
    "# Creating a Series with custom index\n",
    "data = [1, 2, None, 4, 'c']\n",
    "index = ['a', 'b', 'c', 'd', 'e']\n",
    "series = pd.Series(data, index=index)\n",
    "series"
   ]
  },
  {
   "cell_type": "markdown",
   "id": "f40068f2-e276-42ae-ba8f-bbe6aed42c90",
   "metadata": {},
   "source": [
    "#### 1.3.2 Attributes and Methods\n",
    "Pandas Series comes with a variety of attributes and methods that make data manipulation straightforward. Here are some of the commonly used attributes and methods:\n",
    "\n",
    "| **Method/Attribute** | **Description**                                      | **Example Code**                                             |\n",
    "|----------------------|------------------------------------------------------|--------------------------------------------------------------|\n",
    "| `series.sum()`       | Calculates the sum of the Series.                    | `series.sum()`                                               |\n",
    "| `series.mean()`      | Calculates the mean of the Series.                   | `series.mean()`                                              |\n",
    "| `series.max()`       | Finds the maximum value in the Series.               | `series.max()`                                               |\n",
    "| `series.isnull()`    | Checks for null values in the Series, returns a Boolean Series. | `series_with_nan.isnull()`                                   |\n",
    "| `series.notnull()`   | Checks for non-null values in the Series, returns a Boolean Series. | `series_with_nan.notnull()`                                  |\n",
    "| `series.fillna()`    | Fills null values with the specified value.          | `series_with_nan.fillna(0)`                                  |\n",
    "| `series.apply()`     | Applies a function to each element of the Series.    | `series.apply(lambda x: x ** 2)`                             |\n",
    "| `series.count()`     | Counts the non-null elements in the Series.          | `series.count()`                                             |\n",
    "| `series.std()`       | Calculates the standard deviation of the Series.     | `series.std()`                                               |\n",
    "| `series.median()`    | Calculates the median of the Series.                 | `series.median()`                                            |\n",
    "| `series.quantile()`  | Calculates the specified quantile of the Series.     | `series.quantile(0.25)`                                      |\n",
    "| `series.value_counts()` | Counts the occurrences of each value in the Series.  | `series.value_counts()`                                      |\n",
    "| `series.sort_values()` | Sorts the Series by its values.                      | `series.sort_values()`                                       |\n",
    "| `series.rank()`         | Ranks the values in the Series.                     | `series.rank()`                                              |\n",
    "| `series.cumsum()`       | Calculates the cumulative sum of the Series.        | `series.cumsum()`                                            |\n",
    "| `series.shift()`        | Shifts the values in the Series by the specified number of periods. | `series.shift(1)`                                            |\n",
    "| `np.log(series)`        | Applies the NumPy log function to the Series.       | `np.log(series)`                                             |\n",
    "| `series.reindex()`      | Reindexes the Series with the specified index, filling missing values with the specified value. | `series.reindex(['a', 'b', 'c', 'd', 'e', 'f'], fill_value=0)` |\n"
   ]
  },
  {
   "cell_type": "code",
   "execution_count": 31,
   "id": "caf37910-73d3-453a-85bc-5f7547a50aac",
   "metadata": {},
   "outputs": [
    {
     "data": {
      "text/plain": [
       "a    False\n",
       "b    False\n",
       "c     True\n",
       "d    False\n",
       "e    False\n",
       "dtype: bool"
      ]
     },
     "execution_count": 31,
     "metadata": {},
     "output_type": "execute_result"
    }
   ],
   "source": [
    "# Checking for missing values\n",
    "series.isnull()"
   ]
  },
  {
   "cell_type": "code",
   "execution_count": 32,
   "id": "c1338179-1ebb-4160-ab63-9f27795c856d",
   "metadata": {},
   "outputs": [
    {
     "data": {
      "text/plain": [
       "a     True\n",
       "b     True\n",
       "c    False\n",
       "d     True\n",
       "e     True\n",
       "dtype: bool"
      ]
     },
     "execution_count": 32,
     "metadata": {},
     "output_type": "execute_result"
    }
   ],
   "source": [
    "# Checking for non-missing values\n",
    "series.notnull()"
   ]
  },
  {
   "cell_type": "code",
   "execution_count": 33,
   "id": "d0304f6e-bf08-4ac7-b59f-d0dec3dd62a3",
   "metadata": {},
   "outputs": [
    {
     "data": {
      "text/plain": [
       "a       1\n",
       "b       2\n",
       "c    9999\n",
       "d       4\n",
       "e       c\n",
       "dtype: object"
      ]
     },
     "execution_count": 33,
     "metadata": {},
     "output_type": "execute_result"
    }
   ],
   "source": [
    "# Filling missing values\n",
    "series.fillna(9999)"
   ]
  },
  {
   "cell_type": "code",
   "execution_count": null,
   "id": "621c4091-46ec-4a2d-9768-a4d6159d177b",
   "metadata": {},
   "outputs": [],
   "source": [
    "# Creating a Series with custom index\n",
    "data = [10, 2, 7, 4, 1]\n",
    "index = ['a', 'b', 'c', 'd', 'e']\n",
    "series = pd.Series(data, index=index)"
   ]
  },
  {
   "cell_type": "code",
   "execution_count": null,
   "id": "04152187-44f3-4e42-b98f-f9395c0eaaf9",
   "metadata": {},
   "outputs": [
    {
     "data": {
      "text/plain": [
       "a    5.0\n",
       "b    2.0\n",
       "c    4.0\n",
       "d    3.0\n",
       "e    1.0\n",
       "dtype: float64"
      ]
     },
     "execution_count": 36,
     "metadata": {},
     "output_type": "execute_result"
    }
   ],
   "source": [
    "# Ranking\n",
    "series.rank()"
   ]
  },
  {
   "cell_type": "code",
   "execution_count": 41,
   "id": "96d2b211-db94-4850-b340-e0344b28bdf4",
   "metadata": {},
   "outputs": [
    {
     "data": {
      "text/plain": [
       "e     1\n",
       "b     2\n",
       "d     4\n",
       "c     7\n",
       "a    10\n",
       "dtype: int64"
      ]
     },
     "execution_count": 41,
     "metadata": {},
     "output_type": "execute_result"
    }
   ],
   "source": [
    "# Sorting\n",
    "series.sort_values()"
   ]
  },
  {
   "cell_type": "code",
   "execution_count": 42,
   "id": "26125644-e8c4-4d13-99cd-50db8ed24830",
   "metadata": {},
   "outputs": [
    {
     "data": {
      "text/plain": [
       "a    10\n",
       "b    12\n",
       "c    19\n",
       "d    23\n",
       "e    24\n",
       "dtype: int64"
      ]
     },
     "execution_count": 42,
     "metadata": {},
     "output_type": "execute_result"
    }
   ],
   "source": [
    "# Cumulative sum\n",
    "series.cumsum()"
   ]
  },
  {
   "cell_type": "code",
   "execution_count": 38,
   "id": "8ee4258e-5250-4722-a8a9-163020467a5d",
   "metadata": {},
   "outputs": [
    {
     "data": {
      "text/plain": [
       "a     NaN\n",
       "b    10.0\n",
       "c     2.0\n",
       "d     7.0\n",
       "e     4.0\n",
       "dtype: float64"
      ]
     },
     "execution_count": 38,
     "metadata": {},
     "output_type": "execute_result"
    }
   ],
   "source": [
    "# Shifting values\n",
    "series.shift(1)"
   ]
  },
  {
   "cell_type": "code",
   "execution_count": 39,
   "id": "48390e3c-0b10-487c-8dca-f03ac8475f95",
   "metadata": {},
   "outputs": [
    {
     "data": {
      "text/plain": [
       "a    2.0\n",
       "b    7.0\n",
       "c    4.0\n",
       "d    1.0\n",
       "e    NaN\n",
       "dtype: float64"
      ]
     },
     "execution_count": 39,
     "metadata": {},
     "output_type": "execute_result"
    }
   ],
   "source": [
    "series.shift(-1)"
   ]
  },
  {
   "cell_type": "code",
   "execution_count": 40,
   "id": "d04a0bbc-078b-4f7e-8e73-2c09eb1f7be0",
   "metadata": {},
   "outputs": [
    {
     "data": {
      "text/plain": [
       "a    100\n",
       "b      4\n",
       "c     49\n",
       "d     16\n",
       "e      1\n",
       "dtype: int64"
      ]
     },
     "execution_count": 40,
     "metadata": {},
     "output_type": "execute_result"
    }
   ],
   "source": [
    "# Applying a function to each element\n",
    "series.apply(lambda x: x ** 2)"
   ]
  },
  {
   "cell_type": "markdown",
   "id": "cff53914-c0d3-4d1b-84c1-04ff795c4082",
   "metadata": {},
   "source": [
    "### 1.4. DataFrame\n",
    "\n",
    "#### 1.4.1. Creation\n",
    "A Pandas DataFrame is a two-dimensional, size-mutable, and potentially heterogeneous tabular data structure with labeled axes (rows and columns).\n",
    "```python\n",
    "import pandas as pd\n",
    "\n",
    "# Creating a DataFrame from a dictionary\n",
    "data = {\n",
    "    'A': [1, 2, 3, 4, 5],\n",
    "    'B': [10, 20, 30, 40, 50],\n",
    "    'C': ['foo', 'bar', 'baz', 'qux', 'quux']\n",
    "}\n",
    "df = pd.DataFrame(data)\n",
    "print(\"DataFrame from dictionary:\\n\", df)\n",
    "\n",
    "# Creating a DataFrame from a list of dictionaries\n",
    "data = [\n",
    "    {'A': 1, 'B': 10, 'C': 'foo'},\n",
    "    {'A': 2, 'B': 20, 'C': 'bar'},\n",
    "    {'A': 3, 'B': 30, 'C': 'baz'}\n",
    "]\n",
    "df = pd.DataFrame(data)\n",
    "print(\"DataFrame from list of dictionaries:\\n\", df)\n",
    "\n",
    "# Creating a DataFrame from a list of lists\n",
    "data = [\n",
    "    [1, 10, 'foo'],\n",
    "    [2, 20, 'bar'],\n",
    "    [3, 30, 'baz']\n",
    "]\n",
    "columns = ['A', 'B', 'C']\n",
    "df = pd.DataFrame(data, columns=columns)\n",
    "print(\"DataFrame from list of lists:\\n\", df)"
   ]
  },
  {
   "cell_type": "markdown",
   "id": "75a652c5-0599-43b1-b6de-1828e143b20a",
   "metadata": {},
   "source": [
    "#### 1.4.2. Attributes and Methods\n",
    "Pandas DataFrame comes with a variety of attributes and methods that make data manipulation straightforward. Here are some of the commonly used attributes and methods:\n",
    "\n",
    "| **Attribute/Method** | **Description**                                         | **Example Code**                                                |\n",
    "|----------------------|---------------------------------------------------------|-----------------------------------------------------------------|\n",
    "| `df.shape`           | Returns a tuple representing the dimensionality of the DataFrame. | `df.shape`                                                     |\n",
    "| `df.columns`         | Returns the column labels of the DataFrame.             | `df.columns`                                                   |\n",
    "| `df.index`           | Returns the row labels of the DataFrame.                | `df.index`                                                     |\n",
    "| `df.dtypes`          | Returns the data types of each column in the DataFrame. | `df.dtypes`                                                    |\n",
    "| `df.head()`          | Returns the first n rows of the DataFrame (default is 5). | `df.head()`                                                    |\n",
    "| `df.tail()`          | Returns the last n rows of the DataFrame (default is 5). | `df.tail()`                                                    |\n",
    "| `df.describe()`      | Generates descriptive statistics of numeric columns.    | `df.describe()`                                                |\n",
    "| `df.sum()`           | Returns the sum of the values for each column.          | `df.sum()`                                                     |\n",
    "| `df.mean()`          | Returns the mean of the values for each column.         | `df.mean()`                                                    |\n",
    "| `df.max()`           | Returns the maximum value of each column.               | `df.max()`                                                     |\n",
    "| `df['column_name']`  | Selects a column.                                        | `df['A']`                                                      |\n",
    "| `df[['col1', 'col2']]` | Selects multiple columns.                               | `df[['A', 'B']]`                                               |\n",
    "| `df[start:stop]`     | Selects rows by slicing (start is inclusive, stop is exclusive). | `df[0:3]`                                                      |\n",
    "| `df.loc[]`           | Accesses a group of rows and columns by labels or a boolean array. | `df.loc[2:4, 'A']`                                             |\n",
    "| `df.iloc[]`          | Accesses a group of rows and columns by integer position. | `df.iloc[2:5, 0]`                                              |\n",
    "| `df[df['col'] > value]` | Selects rows where the column value meets a condition.    | `df[df['A'] > 2]`                                              |\n",
    "| `df.drop()`          | Drops specified labels from rows or columns.            | `df.drop('D', axis=1)`                                         |\n",
    "| `df.sort_values()`   | Sorts the DataFrame by the values of one or more columns. | `df.sort_values(by='B', ascending=False)`                      |\n",
    "| `df.fillna()`        | Fills missing values with a specified value.            | `df.fillna(0)`                                                 |\n",
    "| `df.apply()`         | Applies a function along an axis of the DataFrame.      | `df['A'].apply(lambda x: x ** 2)`                              |\n",
    "| `df.cumsum()`        | Returns the cumulative sum over a DataFrame or Series.  | `df.cumsum()`                                                  |\n",
    "| `df.reindex()`       | Conforms the DataFrame to a new index with optional filling logic. | `df.reindex(['a', 'b', 'c', 'd', 'e', 'f'], fill_value=0)`     |\n",
    "| `df.value_counts()`  | Returns a Series containing counts of unique values.    | `df['A'].value_counts()`                                       |\n",
    "| `df.std()`           | Returns the standard deviation of the values for each column. | `df.std()`                                                     |\n",
    "| `df.median()`        | Returns the median of the values for each column.       | `df.median()`                                                  |\n",
    "| `df.quantile()`      | Returns values at the given quantile over requested axis. | `df.quantile(0.25)`                                            |\n",
    "| `df.rank()`          | Computes numerical data ranks (1 through n) along axis. | `df.rank()`                                                    |\n",
    "| `df.shift()`         | Shifts the values in the DataFrame by the desired number of periods. | `df.shift(1)`                                                  |\n",
    "| `np.log(df)`         | Applies the NumPy log function to the DataFrame.        | `np.log(df)`                                                   |\n"
   ]
  },
  {
   "cell_type": "code",
   "execution_count": 50,
   "id": "7ca892da-db47-48b8-867d-1c3266888ee2",
   "metadata": {},
   "outputs": [
    {
     "data": {
      "text/html": [
       "<div>\n",
       "<style scoped>\n",
       "    .dataframe tbody tr th:only-of-type {\n",
       "        vertical-align: middle;\n",
       "    }\n",
       "\n",
       "    .dataframe tbody tr th {\n",
       "        vertical-align: top;\n",
       "    }\n",
       "\n",
       "    .dataframe thead th {\n",
       "        text-align: right;\n",
       "    }\n",
       "</style>\n",
       "<table border=\"1\" class=\"dataframe\">\n",
       "  <thead>\n",
       "    <tr style=\"text-align: right;\">\n",
       "      <th></th>\n",
       "      <th>A</th>\n",
       "      <th>B</th>\n",
       "      <th>C</th>\n",
       "    </tr>\n",
       "  </thead>\n",
       "  <tbody>\n",
       "    <tr>\n",
       "      <th>0</th>\n",
       "      <td>1</td>\n",
       "      <td>10</td>\n",
       "      <td>foo</td>\n",
       "    </tr>\n",
       "    <tr>\n",
       "      <th>1</th>\n",
       "      <td>2</td>\n",
       "      <td>20</td>\n",
       "      <td>bar</td>\n",
       "    </tr>\n",
       "    <tr>\n",
       "      <th>2</th>\n",
       "      <td>3</td>\n",
       "      <td>30</td>\n",
       "      <td>baz</td>\n",
       "    </tr>\n",
       "    <tr>\n",
       "      <th>3</th>\n",
       "      <td>4</td>\n",
       "      <td>40</td>\n",
       "      <td>qux</td>\n",
       "    </tr>\n",
       "    <tr>\n",
       "      <th>4</th>\n",
       "      <td>5</td>\n",
       "      <td>50</td>\n",
       "      <td>quux</td>\n",
       "    </tr>\n",
       "  </tbody>\n",
       "</table>\n",
       "</div>"
      ],
      "text/plain": [
       "   A   B     C\n",
       "0  1  10   foo\n",
       "1  2  20   bar\n",
       "2  3  30   baz\n",
       "3  4  40   qux\n",
       "4  5  50  quux"
      ]
     },
     "execution_count": 50,
     "metadata": {},
     "output_type": "execute_result"
    }
   ],
   "source": [
    "# Sample DataFrame\n",
    "data = {\n",
    "    'A': [1, 2, 3, 4, 5],\n",
    "    'B': [10, 20, 30, 40, 50],\n",
    "    'C': ['foo', 'bar', 'baz', 'qux', 'quux']\n",
    "}\n",
    "df = pd.DataFrame(data)\n",
    "df"
   ]
  },
  {
   "cell_type": "code",
   "execution_count": 51,
   "id": "24077b39-84a9-4620-b6fd-d75e1cedcf78",
   "metadata": {},
   "outputs": [
    {
     "name": "stdout",
     "output_type": "stream",
     "text": [
      "DataFrame shape: (5, 3)\n",
      "DataFrame columns: Index(['A', 'B', 'C'], dtype='object')\n",
      "DataFrame index: RangeIndex(start=0, stop=5, step=1)\n",
      "DataFrame data types:\n",
      " A     int64\n",
      "B     int64\n",
      "C    object\n",
      "dtype: object\n"
     ]
    }
   ],
   "source": [
    "# Accessing DataFrame attributes\n",
    "print(\"DataFrame shape:\", df.shape)\n",
    "print(\"DataFrame columns:\", df.columns)\n",
    "print(\"DataFrame index:\", df.index)\n",
    "print(\"DataFrame data types:\\n\", df.dtypes)"
   ]
  },
  {
   "cell_type": "code",
   "execution_count": 52,
   "id": "a07d7b10-be5f-4130-841d-52a0dcdc2c70",
   "metadata": {},
   "outputs": [
    {
     "name": "stdout",
     "output_type": "stream",
     "text": [
      "Head of the DataFrame:\n",
      "    A   B     C\n",
      "0  1  10   foo\n",
      "1  2  20   bar\n",
      "2  3  30   baz\n",
      "3  4  40   qux\n",
      "4  5  50  quux\n",
      "Tail of the DataFrame:\n",
      "    A   B     C\n",
      "0  1  10   foo\n",
      "1  2  20   bar\n",
      "2  3  30   baz\n",
      "3  4  40   qux\n",
      "4  5  50  quux\n"
     ]
    }
   ],
   "source": [
    "# Viewing data\n",
    "print(\"Head of the DataFrame:\\n\", df.head())\n",
    "print(\"Tail of the DataFrame:\\n\", df.tail())"
   ]
  },
  {
   "cell_type": "code",
   "execution_count": 54,
   "id": "9577e33f-c95c-4a30-a192-29b27b3f8818",
   "metadata": {},
   "outputs": [
    {
     "name": "stdout",
     "output_type": "stream",
     "text": [
      "DataFrame description:\n",
      "               A          B\n",
      "count  5.000000   5.000000\n",
      "mean   3.000000  30.000000\n",
      "std    1.581139  15.811388\n",
      "min    1.000000  10.000000\n",
      "25%    2.000000  20.000000\n",
      "50%    3.000000  30.000000\n",
      "75%    4.000000  40.000000\n",
      "max    5.000000  50.000000\n",
      "Sum of each column:\n",
      " A     15\n",
      "B    150\n",
      "dtype: int64\n",
      "Mean of each column:\n",
      " A     3.0\n",
      "B    30.0\n",
      "dtype: float64\n",
      "Max of each column:\n",
      " A     5\n",
      "B    50\n",
      "dtype: int64\n"
     ]
    }
   ],
   "source": [
    "# Basic statistics (only numeric columns)\n",
    "print(\"DataFrame description:\\n\", df.describe(include=[int, float]))\n",
    "print(\"Sum of each column:\\n\", df.sum(numeric_only=True))\n",
    "print(\"Mean of each column:\\n\", df.mean(numeric_only=True))\n",
    "print(\"Max of each column:\\n\", df.max(numeric_only=True))"
   ]
  },
  {
   "cell_type": "code",
   "execution_count": 65,
   "id": "275b8548-f101-42f2-9191-ff476c245572",
   "metadata": {},
   "outputs": [
    {
     "data": {
      "text/html": [
       "<div>\n",
       "<style scoped>\n",
       "    .dataframe tbody tr th:only-of-type {\n",
       "        vertical-align: middle;\n",
       "    }\n",
       "\n",
       "    .dataframe tbody tr th {\n",
       "        vertical-align: top;\n",
       "    }\n",
       "\n",
       "    .dataframe thead th {\n",
       "        text-align: right;\n",
       "    }\n",
       "</style>\n",
       "<table border=\"1\" class=\"dataframe\">\n",
       "  <thead>\n",
       "    <tr style=\"text-align: right;\">\n",
       "      <th></th>\n",
       "      <th>A</th>\n",
       "      <th>B</th>\n",
       "    </tr>\n",
       "  </thead>\n",
       "  <tbody>\n",
       "    <tr>\n",
       "      <th>0</th>\n",
       "      <td>1</td>\n",
       "      <td>10</td>\n",
       "    </tr>\n",
       "    <tr>\n",
       "      <th>1</th>\n",
       "      <td>2</td>\n",
       "      <td>20</td>\n",
       "    </tr>\n",
       "    <tr>\n",
       "      <th>2</th>\n",
       "      <td>3</td>\n",
       "      <td>30</td>\n",
       "    </tr>\n",
       "    <tr>\n",
       "      <th>3</th>\n",
       "      <td>4</td>\n",
       "      <td>40</td>\n",
       "    </tr>\n",
       "    <tr>\n",
       "      <th>4</th>\n",
       "      <td>5</td>\n",
       "      <td>50</td>\n",
       "    </tr>\n",
       "  </tbody>\n",
       "</table>\n",
       "</div>"
      ],
      "text/plain": [
       "   A   B\n",
       "0  1  10\n",
       "1  2  20\n",
       "2  3  30\n",
       "3  4  40\n",
       "4  5  50"
      ]
     },
     "execution_count": 65,
     "metadata": {},
     "output_type": "execute_result"
    }
   ],
   "source": [
    "# Selecting data\n",
    "# Selecting multiple columns 'A' and 'B'\n",
    "df[['A', 'B']]"
   ]
  },
  {
   "cell_type": "code",
   "execution_count": 66,
   "id": "eb40833b-4d25-4d00-958d-b6365ffee62d",
   "metadata": {},
   "outputs": [
    {
     "data": {
      "text/html": [
       "<div>\n",
       "<style scoped>\n",
       "    .dataframe tbody tr th:only-of-type {\n",
       "        vertical-align: middle;\n",
       "    }\n",
       "\n",
       "    .dataframe tbody tr th {\n",
       "        vertical-align: top;\n",
       "    }\n",
       "\n",
       "    .dataframe thead th {\n",
       "        text-align: right;\n",
       "    }\n",
       "</style>\n",
       "<table border=\"1\" class=\"dataframe\">\n",
       "  <thead>\n",
       "    <tr style=\"text-align: right;\">\n",
       "      <th></th>\n",
       "      <th>A</th>\n",
       "      <th>B</th>\n",
       "      <th>C</th>\n",
       "      <th>A_squared</th>\n",
       "    </tr>\n",
       "  </thead>\n",
       "  <tbody>\n",
       "    <tr>\n",
       "      <th>2</th>\n",
       "      <td>3</td>\n",
       "      <td>30</td>\n",
       "      <td>baz</td>\n",
       "      <td>9</td>\n",
       "    </tr>\n",
       "    <tr>\n",
       "      <th>3</th>\n",
       "      <td>4</td>\n",
       "      <td>40</td>\n",
       "      <td>qux</td>\n",
       "      <td>16</td>\n",
       "    </tr>\n",
       "  </tbody>\n",
       "</table>\n",
       "</div>"
      ],
      "text/plain": [
       "   A   B    C  A_squared\n",
       "2  3  30  baz          9\n",
       "3  4  40  qux         16"
      ]
     },
     "execution_count": 66,
     "metadata": {},
     "output_type": "execute_result"
    }
   ],
   "source": [
    "# Selecting rows 2 to 4 (inclusive)\n",
    "df[2:4]"
   ]
  },
  {
   "cell_type": "code",
   "execution_count": 67,
   "id": "397c3dfb-da8c-4f9d-80b0-4451c796baa7",
   "metadata": {},
   "outputs": [
    {
     "data": {
      "text/html": [
       "<div>\n",
       "<style scoped>\n",
       "    .dataframe tbody tr th:only-of-type {\n",
       "        vertical-align: middle;\n",
       "    }\n",
       "\n",
       "    .dataframe tbody tr th {\n",
       "        vertical-align: top;\n",
       "    }\n",
       "\n",
       "    .dataframe thead th {\n",
       "        text-align: right;\n",
       "    }\n",
       "</style>\n",
       "<table border=\"1\" class=\"dataframe\">\n",
       "  <thead>\n",
       "    <tr style=\"text-align: right;\">\n",
       "      <th></th>\n",
       "      <th>A</th>\n",
       "      <th>B</th>\n",
       "    </tr>\n",
       "  </thead>\n",
       "  <tbody>\n",
       "    <tr>\n",
       "      <th>2</th>\n",
       "      <td>3</td>\n",
       "      <td>30</td>\n",
       "    </tr>\n",
       "    <tr>\n",
       "      <th>3</th>\n",
       "      <td>4</td>\n",
       "      <td>40</td>\n",
       "    </tr>\n",
       "    <tr>\n",
       "      <th>4</th>\n",
       "      <td>5</td>\n",
       "      <td>50</td>\n",
       "    </tr>\n",
       "  </tbody>\n",
       "</table>\n",
       "</div>"
      ],
      "text/plain": [
       "   A   B\n",
       "2  3  30\n",
       "3  4  40\n",
       "4  5  50"
      ]
     },
     "execution_count": 67,
     "metadata": {},
     "output_type": "execute_result"
    }
   ],
   "source": [
    "df.loc[2:4, ['A', 'B']]"
   ]
  },
  {
   "cell_type": "code",
   "execution_count": 81,
   "id": "d1475bce-bb6b-499a-85ef-ac55ea6d1d62",
   "metadata": {},
   "outputs": [
    {
     "data": {
      "text/html": [
       "<div>\n",
       "<style scoped>\n",
       "    .dataframe tbody tr th:only-of-type {\n",
       "        vertical-align: middle;\n",
       "    }\n",
       "\n",
       "    .dataframe tbody tr th {\n",
       "        vertical-align: top;\n",
       "    }\n",
       "\n",
       "    .dataframe thead th {\n",
       "        text-align: right;\n",
       "    }\n",
       "</style>\n",
       "<table border=\"1\" class=\"dataframe\">\n",
       "  <thead>\n",
       "    <tr style=\"text-align: right;\">\n",
       "      <th></th>\n",
       "      <th>A</th>\n",
       "      <th>B</th>\n",
       "      <th>C</th>\n",
       "      <th>A_squared</th>\n",
       "      <th>D</th>\n",
       "    </tr>\n",
       "  </thead>\n",
       "  <tbody>\n",
       "    <tr>\n",
       "      <th>2</th>\n",
       "      <td>3</td>\n",
       "      <td>30</td>\n",
       "      <td>baz</td>\n",
       "      <td>9</td>\n",
       "      <td>33</td>\n",
       "    </tr>\n",
       "    <tr>\n",
       "      <th>3</th>\n",
       "      <td>4</td>\n",
       "      <td>40</td>\n",
       "      <td>qux</td>\n",
       "      <td>16</td>\n",
       "      <td>44</td>\n",
       "    </tr>\n",
       "    <tr>\n",
       "      <th>4</th>\n",
       "      <td>5</td>\n",
       "      <td>50</td>\n",
       "      <td>quux</td>\n",
       "      <td>25</td>\n",
       "      <td>55</td>\n",
       "    </tr>\n",
       "  </tbody>\n",
       "</table>\n",
       "</div>"
      ],
      "text/plain": [
       "   A   B     C  A_squared   D\n",
       "2  3  30   baz          9  33\n",
       "3  4  40   qux         16  44\n",
       "4  5  50  quux         25  55"
      ]
     },
     "execution_count": 81,
     "metadata": {},
     "output_type": "execute_result"
    }
   ],
   "source": [
    "# Conditional selection\n",
    "df[df['A'] > 2]"
   ]
  },
  {
   "cell_type": "code",
   "execution_count": 82,
   "id": "5cfa82e0-a89f-47ac-99b7-14f5f1c79497",
   "metadata": {},
   "outputs": [
    {
     "data": {
      "text/html": [
       "<div>\n",
       "<style scoped>\n",
       "    .dataframe tbody tr th:only-of-type {\n",
       "        vertical-align: middle;\n",
       "    }\n",
       "\n",
       "    .dataframe tbody tr th {\n",
       "        vertical-align: top;\n",
       "    }\n",
       "\n",
       "    .dataframe thead th {\n",
       "        text-align: right;\n",
       "    }\n",
       "</style>\n",
       "<table border=\"1\" class=\"dataframe\">\n",
       "  <thead>\n",
       "    <tr style=\"text-align: right;\">\n",
       "      <th></th>\n",
       "      <th>A</th>\n",
       "      <th>B</th>\n",
       "      <th>C</th>\n",
       "      <th>A_squared</th>\n",
       "      <th>D</th>\n",
       "    </tr>\n",
       "  </thead>\n",
       "  <tbody>\n",
       "    <tr>\n",
       "      <th>0</th>\n",
       "      <td>1</td>\n",
       "      <td>10</td>\n",
       "      <td>foo</td>\n",
       "      <td>1</td>\n",
       "      <td>11</td>\n",
       "    </tr>\n",
       "    <tr>\n",
       "      <th>1</th>\n",
       "      <td>2</td>\n",
       "      <td>20</td>\n",
       "      <td>bar</td>\n",
       "      <td>4</td>\n",
       "      <td>22</td>\n",
       "    </tr>\n",
       "    <tr>\n",
       "      <th>2</th>\n",
       "      <td>3</td>\n",
       "      <td>30</td>\n",
       "      <td>baz</td>\n",
       "      <td>9</td>\n",
       "      <td>33</td>\n",
       "    </tr>\n",
       "    <tr>\n",
       "      <th>3</th>\n",
       "      <td>4</td>\n",
       "      <td>40</td>\n",
       "      <td>qux</td>\n",
       "      <td>16</td>\n",
       "      <td>44</td>\n",
       "    </tr>\n",
       "    <tr>\n",
       "      <th>4</th>\n",
       "      <td>5</td>\n",
       "      <td>50</td>\n",
       "      <td>quux</td>\n",
       "      <td>25</td>\n",
       "      <td>55</td>\n",
       "    </tr>\n",
       "  </tbody>\n",
       "</table>\n",
       "</div>"
      ],
      "text/plain": [
       "   A   B     C  A_squared   D\n",
       "0  1  10   foo          1  11\n",
       "1  2  20   bar          4  22\n",
       "2  3  30   baz          9  33\n",
       "3  4  40   qux         16  44\n",
       "4  5  50  quux         25  55"
      ]
     },
     "execution_count": 82,
     "metadata": {},
     "output_type": "execute_result"
    }
   ],
   "source": [
    "# Adding new columns\n",
    "df['D'] = df['A'] + df['B']\n",
    "df"
   ]
  },
  {
   "cell_type": "code",
   "execution_count": 80,
   "id": "8a143f49-4349-4ed3-b69b-f1faea06a2b9",
   "metadata": {},
   "outputs": [
    {
     "data": {
      "text/html": [
       "<div>\n",
       "<style scoped>\n",
       "    .dataframe tbody tr th:only-of-type {\n",
       "        vertical-align: middle;\n",
       "    }\n",
       "\n",
       "    .dataframe tbody tr th {\n",
       "        vertical-align: top;\n",
       "    }\n",
       "\n",
       "    .dataframe thead th {\n",
       "        text-align: right;\n",
       "    }\n",
       "</style>\n",
       "<table border=\"1\" class=\"dataframe\">\n",
       "  <thead>\n",
       "    <tr style=\"text-align: right;\">\n",
       "      <th></th>\n",
       "      <th>A</th>\n",
       "      <th>B</th>\n",
       "      <th>C</th>\n",
       "      <th>A_squared</th>\n",
       "    </tr>\n",
       "  </thead>\n",
       "  <tbody>\n",
       "    <tr>\n",
       "      <th>0</th>\n",
       "      <td>1</td>\n",
       "      <td>10</td>\n",
       "      <td>foo</td>\n",
       "      <td>1</td>\n",
       "    </tr>\n",
       "    <tr>\n",
       "      <th>1</th>\n",
       "      <td>2</td>\n",
       "      <td>20</td>\n",
       "      <td>bar</td>\n",
       "      <td>4</td>\n",
       "    </tr>\n",
       "    <tr>\n",
       "      <th>2</th>\n",
       "      <td>3</td>\n",
       "      <td>30</td>\n",
       "      <td>baz</td>\n",
       "      <td>9</td>\n",
       "    </tr>\n",
       "    <tr>\n",
       "      <th>3</th>\n",
       "      <td>4</td>\n",
       "      <td>40</td>\n",
       "      <td>qux</td>\n",
       "      <td>16</td>\n",
       "    </tr>\n",
       "    <tr>\n",
       "      <th>4</th>\n",
       "      <td>5</td>\n",
       "      <td>50</td>\n",
       "      <td>quux</td>\n",
       "      <td>25</td>\n",
       "    </tr>\n",
       "  </tbody>\n",
       "</table>\n",
       "</div>"
      ],
      "text/plain": [
       "   A   B     C  A_squared\n",
       "0  1  10   foo          1\n",
       "1  2  20   bar          4\n",
       "2  3  30   baz          9\n",
       "3  4  40   qux         16\n",
       "4  5  50  quux         25"
      ]
     },
     "execution_count": 80,
     "metadata": {},
     "output_type": "execute_result"
    }
   ],
   "source": [
    "# Dropping columns\n",
    "df.drop('D', axis=1)"
   ]
  },
  {
   "cell_type": "code",
   "execution_count": 76,
   "id": "93b0d7c9-31f1-4041-bf35-65467f073cc0",
   "metadata": {},
   "outputs": [
    {
     "data": {
      "text/html": [
       "<div>\n",
       "<style scoped>\n",
       "    .dataframe tbody tr th:only-of-type {\n",
       "        vertical-align: middle;\n",
       "    }\n",
       "\n",
       "    .dataframe tbody tr th {\n",
       "        vertical-align: top;\n",
       "    }\n",
       "\n",
       "    .dataframe thead th {\n",
       "        text-align: right;\n",
       "    }\n",
       "</style>\n",
       "<table border=\"1\" class=\"dataframe\">\n",
       "  <thead>\n",
       "    <tr style=\"text-align: right;\">\n",
       "      <th></th>\n",
       "      <th>A</th>\n",
       "      <th>B</th>\n",
       "      <th>C</th>\n",
       "      <th>A_squared</th>\n",
       "    </tr>\n",
       "  </thead>\n",
       "  <tbody>\n",
       "    <tr>\n",
       "      <th>4</th>\n",
       "      <td>5</td>\n",
       "      <td>50</td>\n",
       "      <td>quux</td>\n",
       "      <td>25</td>\n",
       "    </tr>\n",
       "    <tr>\n",
       "      <th>3</th>\n",
       "      <td>4</td>\n",
       "      <td>40</td>\n",
       "      <td>qux</td>\n",
       "      <td>16</td>\n",
       "    </tr>\n",
       "    <tr>\n",
       "      <th>2</th>\n",
       "      <td>3</td>\n",
       "      <td>30</td>\n",
       "      <td>baz</td>\n",
       "      <td>9</td>\n",
       "    </tr>\n",
       "    <tr>\n",
       "      <th>1</th>\n",
       "      <td>2</td>\n",
       "      <td>20</td>\n",
       "      <td>bar</td>\n",
       "      <td>4</td>\n",
       "    </tr>\n",
       "    <tr>\n",
       "      <th>0</th>\n",
       "      <td>1</td>\n",
       "      <td>10</td>\n",
       "      <td>foo</td>\n",
       "      <td>1</td>\n",
       "    </tr>\n",
       "  </tbody>\n",
       "</table>\n",
       "</div>"
      ],
      "text/plain": [
       "   A   B     C  A_squared\n",
       "4  5  50  quux         25\n",
       "3  4  40   qux         16\n",
       "2  3  30   baz          9\n",
       "1  2  20   bar          4\n",
       "0  1  10   foo          1"
      ]
     },
     "execution_count": 76,
     "metadata": {},
     "output_type": "execute_result"
    }
   ],
   "source": [
    "# Sorting\n",
    "df.sort_values(by='B', ascending=False)"
   ]
  },
  {
   "cell_type": "code",
   "execution_count": 75,
   "id": "d7beb8db-3231-471f-bb88-4187fdb2c043",
   "metadata": {},
   "outputs": [
    {
     "data": {
      "text/html": [
       "<div>\n",
       "<style scoped>\n",
       "    .dataframe tbody tr th:only-of-type {\n",
       "        vertical-align: middle;\n",
       "    }\n",
       "\n",
       "    .dataframe tbody tr th {\n",
       "        vertical-align: top;\n",
       "    }\n",
       "\n",
       "    .dataframe thead th {\n",
       "        text-align: right;\n",
       "    }\n",
       "</style>\n",
       "<table border=\"1\" class=\"dataframe\">\n",
       "  <thead>\n",
       "    <tr style=\"text-align: right;\">\n",
       "      <th></th>\n",
       "      <th>A</th>\n",
       "      <th>B</th>\n",
       "      <th>C</th>\n",
       "      <th>A_squared</th>\n",
       "    </tr>\n",
       "  </thead>\n",
       "  <tbody>\n",
       "    <tr>\n",
       "      <th>0</th>\n",
       "      <td>1.0</td>\n",
       "      <td>10</td>\n",
       "      <td>foo</td>\n",
       "      <td>1</td>\n",
       "    </tr>\n",
       "    <tr>\n",
       "      <th>1</th>\n",
       "      <td>0.0</td>\n",
       "      <td>20</td>\n",
       "      <td>bar</td>\n",
       "      <td>4</td>\n",
       "    </tr>\n",
       "    <tr>\n",
       "      <th>2</th>\n",
       "      <td>3.0</td>\n",
       "      <td>30</td>\n",
       "      <td>baz</td>\n",
       "      <td>9</td>\n",
       "    </tr>\n",
       "    <tr>\n",
       "      <th>3</th>\n",
       "      <td>4.0</td>\n",
       "      <td>40</td>\n",
       "      <td>qux</td>\n",
       "      <td>16</td>\n",
       "    </tr>\n",
       "    <tr>\n",
       "      <th>4</th>\n",
       "      <td>5.0</td>\n",
       "      <td>50</td>\n",
       "      <td>quux</td>\n",
       "      <td>25</td>\n",
       "    </tr>\n",
       "  </tbody>\n",
       "</table>\n",
       "</div>"
      ],
      "text/plain": [
       "     A   B     C  A_squared\n",
       "0  1.0  10   foo          1\n",
       "1  0.0  20   bar          4\n",
       "2  3.0  30   baz          9\n",
       "3  4.0  40   qux         16\n",
       "4  5.0  50  quux         25"
      ]
     },
     "execution_count": 75,
     "metadata": {},
     "output_type": "execute_result"
    }
   ],
   "source": [
    "# Handling missing values\n",
    "df_with_nan = df.copy()\n",
    "df_with_nan.loc[1, 'A'] = None\n",
    "df_with_nan.fillna(0)"
   ]
  },
  {
   "cell_type": "code",
   "execution_count": 74,
   "id": "09e7f686-a918-4a7a-8d00-32f883f9dd93",
   "metadata": {},
   "outputs": [
    {
     "data": {
      "text/html": [
       "<div>\n",
       "<style scoped>\n",
       "    .dataframe tbody tr th:only-of-type {\n",
       "        vertical-align: middle;\n",
       "    }\n",
       "\n",
       "    .dataframe tbody tr th {\n",
       "        vertical-align: top;\n",
       "    }\n",
       "\n",
       "    .dataframe thead th {\n",
       "        text-align: right;\n",
       "    }\n",
       "</style>\n",
       "<table border=\"1\" class=\"dataframe\">\n",
       "  <thead>\n",
       "    <tr style=\"text-align: right;\">\n",
       "      <th></th>\n",
       "      <th>A</th>\n",
       "      <th>B</th>\n",
       "      <th>C</th>\n",
       "      <th>A_squared</th>\n",
       "    </tr>\n",
       "  </thead>\n",
       "  <tbody>\n",
       "    <tr>\n",
       "      <th>0</th>\n",
       "      <td>1</td>\n",
       "      <td>10</td>\n",
       "      <td>foo</td>\n",
       "      <td>1</td>\n",
       "    </tr>\n",
       "    <tr>\n",
       "      <th>1</th>\n",
       "      <td>2</td>\n",
       "      <td>20</td>\n",
       "      <td>bar</td>\n",
       "      <td>4</td>\n",
       "    </tr>\n",
       "    <tr>\n",
       "      <th>2</th>\n",
       "      <td>3</td>\n",
       "      <td>30</td>\n",
       "      <td>baz</td>\n",
       "      <td>9</td>\n",
       "    </tr>\n",
       "    <tr>\n",
       "      <th>3</th>\n",
       "      <td>4</td>\n",
       "      <td>40</td>\n",
       "      <td>qux</td>\n",
       "      <td>16</td>\n",
       "    </tr>\n",
       "    <tr>\n",
       "      <th>4</th>\n",
       "      <td>5</td>\n",
       "      <td>50</td>\n",
       "      <td>quux</td>\n",
       "      <td>25</td>\n",
       "    </tr>\n",
       "  </tbody>\n",
       "</table>\n",
       "</div>"
      ],
      "text/plain": [
       "   A   B     C  A_squared\n",
       "0  1  10   foo          1\n",
       "1  2  20   bar          4\n",
       "2  3  30   baz          9\n",
       "3  4  40   qux         16\n",
       "4  5  50  quux         25"
      ]
     },
     "execution_count": 74,
     "metadata": {},
     "output_type": "execute_result"
    }
   ],
   "source": [
    "# Applying functions\n",
    "df['A_squared'] = df['A'].apply(lambda x: x ** 2)\n",
    "df"
   ]
  },
  {
   "cell_type": "code",
   "execution_count": null,
   "id": "5ecb7787-dd84-4b15-9bec-006e7b5e7db3",
   "metadata": {},
   "outputs": [],
   "source": []
  },
  {
   "cell_type": "code",
   "execution_count": null,
   "id": "9c33685b-5738-4e16-a371-c83ea4b9ee33",
   "metadata": {},
   "outputs": [],
   "source": []
  },
  {
   "cell_type": "markdown",
   "id": "3bf7c3ff-9643-4cf6-a194-52aaf5e99f8f",
   "metadata": {},
   "source": [
    "## 4. Data Conversion, Computation, and Visualization\n",
    "\n",
    "### 4.1 Converting Data Types"
   ]
  },
  {
   "cell_type": "code",
   "execution_count": 14,
   "id": "b04035a8-5909-492a-9a67-3001cb68e367",
   "metadata": {},
   "outputs": [
    {
     "data": {
      "text/plain": [
       "A    int64\n",
       "B    int32\n",
       "dtype: object"
      ]
     },
     "execution_count": 14,
     "metadata": {},
     "output_type": "execute_result"
    }
   ],
   "source": [
    "import pandas as pd\n",
    "\n",
    "# Sample DataFrame\n",
    "data = {'A': [1, 2, 3, 4], 'B': ['10', '20', '30', '40']}\n",
    "df = pd.DataFrame(data)\n",
    "\n",
    "# Converting column B from string to integer\n",
    "df['B'] = df['B'].astype(int)\n",
    "df.dtypes"
   ]
  },
  {
   "cell_type": "markdown",
   "id": "5c2dd3a0-0013-4c60-9edd-2d4e5e2b656d",
   "metadata": {},
   "source": [
    "### 4.2 Applying Functions\n",
    "- Using `apply()`, `map()`, and `applymap()`"
   ]
  },
  {
   "cell_type": "code",
   "execution_count": 8,
   "id": "783a111b-ad1b-414c-92c5-a744b9a8ca49",
   "metadata": {},
   "outputs": [
    {
     "data": {
      "text/html": [
       "<div>\n",
       "<style scoped>\n",
       "    .dataframe tbody tr th:only-of-type {\n",
       "        vertical-align: middle;\n",
       "    }\n",
       "\n",
       "    .dataframe tbody tr th {\n",
       "        vertical-align: top;\n",
       "    }\n",
       "\n",
       "    .dataframe thead th {\n",
       "        text-align: right;\n",
       "    }\n",
       "</style>\n",
       "<table border=\"1\" class=\"dataframe\">\n",
       "  <thead>\n",
       "    <tr style=\"text-align: right;\">\n",
       "      <th></th>\n",
       "      <th>A</th>\n",
       "      <th>B</th>\n",
       "      <th>A_squared</th>\n",
       "      <th>B_mapped</th>\n",
       "    </tr>\n",
       "  </thead>\n",
       "  <tbody>\n",
       "    <tr>\n",
       "      <th>0</th>\n",
       "      <td>1</td>\n",
       "      <td>10</td>\n",
       "      <td>1</td>\n",
       "      <td>X</td>\n",
       "    </tr>\n",
       "    <tr>\n",
       "      <th>1</th>\n",
       "      <td>2</td>\n",
       "      <td>20</td>\n",
       "      <td>4</td>\n",
       "      <td>Y</td>\n",
       "    </tr>\n",
       "    <tr>\n",
       "      <th>2</th>\n",
       "      <td>3</td>\n",
       "      <td>30</td>\n",
       "      <td>9</td>\n",
       "      <td>Z</td>\n",
       "    </tr>\n",
       "    <tr>\n",
       "      <th>3</th>\n",
       "      <td>4</td>\n",
       "      <td>40</td>\n",
       "      <td>16</td>\n",
       "      <td>W</td>\n",
       "    </tr>\n",
       "  </tbody>\n",
       "</table>\n",
       "</div>"
      ],
      "text/plain": [
       "   A   B  A_squared B_mapped\n",
       "0  1  10          1        X\n",
       "1  2  20          4        Y\n",
       "2  3  30          9        Z\n",
       "3  4  40         16        W"
      ]
     },
     "execution_count": 8,
     "metadata": {},
     "output_type": "execute_result"
    }
   ],
   "source": [
    "# Applying a function to a column using apply()\n",
    "df['A_squared'] = df['A'].apply(lambda x: x ** 2)\n",
    "df"
   ]
  },
  {
   "cell_type": "code",
   "execution_count": 9,
   "id": "21276a48-736d-40e3-a70a-2bd99d8d40b4",
   "metadata": {},
   "outputs": [
    {
     "data": {
      "text/html": [
       "<div>\n",
       "<style scoped>\n",
       "    .dataframe tbody tr th:only-of-type {\n",
       "        vertical-align: middle;\n",
       "    }\n",
       "\n",
       "    .dataframe tbody tr th {\n",
       "        vertical-align: top;\n",
       "    }\n",
       "\n",
       "    .dataframe thead th {\n",
       "        text-align: right;\n",
       "    }\n",
       "</style>\n",
       "<table border=\"1\" class=\"dataframe\">\n",
       "  <thead>\n",
       "    <tr style=\"text-align: right;\">\n",
       "      <th></th>\n",
       "      <th>A</th>\n",
       "      <th>B</th>\n",
       "      <th>A_squared</th>\n",
       "      <th>B_mapped</th>\n",
       "    </tr>\n",
       "  </thead>\n",
       "  <tbody>\n",
       "    <tr>\n",
       "      <th>0</th>\n",
       "      <td>1</td>\n",
       "      <td>10</td>\n",
       "      <td>1</td>\n",
       "      <td>X</td>\n",
       "    </tr>\n",
       "    <tr>\n",
       "      <th>1</th>\n",
       "      <td>2</td>\n",
       "      <td>20</td>\n",
       "      <td>4</td>\n",
       "      <td>Y</td>\n",
       "    </tr>\n",
       "    <tr>\n",
       "      <th>2</th>\n",
       "      <td>3</td>\n",
       "      <td>30</td>\n",
       "      <td>9</td>\n",
       "      <td>Z</td>\n",
       "    </tr>\n",
       "    <tr>\n",
       "      <th>3</th>\n",
       "      <td>4</td>\n",
       "      <td>40</td>\n",
       "      <td>16</td>\n",
       "      <td>W</td>\n",
       "    </tr>\n",
       "  </tbody>\n",
       "</table>\n",
       "</div>"
      ],
      "text/plain": [
       "   A   B  A_squared B_mapped\n",
       "0  1  10          1        X\n",
       "1  2  20          4        Y\n",
       "2  3  30          9        Z\n",
       "3  4  40         16        W"
      ]
     },
     "execution_count": 9,
     "metadata": {},
     "output_type": "execute_result"
    }
   ],
   "source": [
    "# Mapping values in a column using map()\n",
    "df['B_mapped'] = df['B'].map({10: 'X', 20: 'Y', 30: 'Z', 40: 'W'})\n",
    "df"
   ]
  },
  {
   "cell_type": "code",
   "execution_count": null,
   "id": "dddc1846-3936-4a0d-8ec1-4d975543aefb",
   "metadata": {},
   "outputs": [
    {
     "data": {
      "text/html": [
       "<div>\n",
       "<style scoped>\n",
       "    .dataframe tbody tr th:only-of-type {\n",
       "        vertical-align: middle;\n",
       "    }\n",
       "\n",
       "    .dataframe tbody tr th {\n",
       "        vertical-align: top;\n",
       "    }\n",
       "\n",
       "    .dataframe thead th {\n",
       "        text-align: right;\n",
       "    }\n",
       "</style>\n",
       "<table border=\"1\" class=\"dataframe\">\n",
       "  <thead>\n",
       "    <tr style=\"text-align: right;\">\n",
       "      <th></th>\n",
       "      <th>A</th>\n",
       "      <th>B</th>\n",
       "      <th>A_squared</th>\n",
       "      <th>B_mapped</th>\n",
       "    </tr>\n",
       "  </thead>\n",
       "  <tbody>\n",
       "    <tr>\n",
       "      <th>0</th>\n",
       "      <td>1!</td>\n",
       "      <td>10!</td>\n",
       "      <td>1!</td>\n",
       "      <td>X!</td>\n",
       "    </tr>\n",
       "    <tr>\n",
       "      <th>1</th>\n",
       "      <td>2!</td>\n",
       "      <td>20!</td>\n",
       "      <td>4!</td>\n",
       "      <td>Y!</td>\n",
       "    </tr>\n",
       "    <tr>\n",
       "      <th>2</th>\n",
       "      <td>3!</td>\n",
       "      <td>30!</td>\n",
       "      <td>9!</td>\n",
       "      <td>Z!</td>\n",
       "    </tr>\n",
       "    <tr>\n",
       "      <th>3</th>\n",
       "      <td>4!</td>\n",
       "      <td>40!</td>\n",
       "      <td>16!</td>\n",
       "      <td>W!</td>\n",
       "    </tr>\n",
       "  </tbody>\n",
       "</table>\n",
       "</div>"
      ],
      "text/plain": [
       "    A    B A_squared B_mapped\n",
       "0  1!  10!        1!       X!\n",
       "1  2!  20!        4!       Y!\n",
       "2  3!  30!        9!       Z!\n",
       "3  4!  40!       16!       W!"
      ]
     },
     "execution_count": 6,
     "metadata": {},
     "output_type": "execute_result"
    }
   ],
   "source": [
    "# Applying a function to all elements of the DataFrame using applymap()\n",
    "df_applied = df.applymap(lambda x: str(x) + '!')\n",
    "df_applied"
   ]
  },
  {
   "cell_type": "markdown",
   "id": "1c6a3d0e-644b-41d3-a565-cb19889a2176",
   "metadata": {},
   "source": [
    "### 4.3 String Manipulation\n",
    "- Using the `str` accessor for string operations\n",
    "| **Method**         | **Description**                                                                                       | **Example Code**                              |\n",
    "|--------------------|-------------------------------------------------------------------------------------------------------|-----------------------------------------------|\n",
    "| `str.lower()`      | Converts strings in the Series/Index to lowercase.                                                     | `df['col'].str.lower()`                       |\n",
    "| `str.upper()`      | Converts strings in the Series/Index to uppercase.                                                     | `df['col'].str.upper()`                       |\n",
    "| `str.len()`        | Computes the length of each string in the Series/Index.                                                | `df['col'].str.len()`                         |\n",
    "| `str.strip()`      | Removes leading and trailing whitespace.                                                              | `df['col'].str.strip()`                       |\n",
    "| `str.lstrip()`     | Removes leading whitespace.                                                                           | `df['col'].str.lstrip()`                      |\n",
    "| `str.rstrip()`     | Removes trailing whitespace.                                                                          | `df['col'].str.rstrip()`                      |\n",
    "| `str.replace()`    | Replaces occurrences of a string with another string.                                                 | `df['col'].str.replace('old', 'new')`         |\n",
    "| `str.contains()`   | Checks if each string in the Series/Index contains a pattern/regex.                                    | `df['col'].str.contains('pattern')`           |\n",
    "| `str.startswith()` | Checks if each string in the Series/Index starts with a pattern.                                       | `df['col'].str.startswith('prefix')`          |\n",
    "| `str.endswith()`   | Checks if each string in the Series/Index ends with a pattern.                                         | `df['col'].str.endswith('suffix')`            |\n",
    "| `str.find()`       | Returns the lowest index of the substring. Returns -1 if not found.                                    | `df['col'].str.find('substring')`             |\n",
    "| `str.findall()`    | Finds all occurrences of pattern/regex in the Series/Index.                                            | `df['col'].str.findall('pattern')`            |\n",
    "| `str.match()`      | Determines if each string matches a regular expression.                                               | `df['col'].str.match('pattern')`              |\n",
    "| `str.count()`      | Counts occurrences of pattern in each string.                                                         | `df['col'].str.count('pattern')`              |\n",
    "| `str.split()`      | Splits each string by the specified delimiter and returns a list of strings.                          | `df['col'].str.split('delimiter')`            |\n",
    "| `str.cat()`        | Concatenates strings in the Series/Index with the given separator.                                    | `df['col'].str.cat(sep='separator')`          |\n",
    "| `str.get()`        | Extracts element from each component at specified position.                                           | `df['col'].str.get(0)`                        |\n",
    "| `str.join()`       | Joins lists contained as elements in the Series/Index with the passed delimiter.                      | `df['col'].str.join('-')`                     |\n",
    "| `str.extract()`    | Extracts groups from the first match of regular expression pattern.                                   | `df['col'].str.extract('pattern')`            |\n",
    "| `str.extractall()` | Extracts all matches of regular expression pattern.                                                   | `df['col'].str.extractall('pattern')`         |\n",
    "| `str.zfill()`      | Pads each string in the Series/Index with zeros on the left to reach a specified width.                | `df['col'].str.zfill(5)`                      |\n",
    "| `str.pad()`        | Pads each string in the Series/Index with the specified character on the left and/or right sides.     | `df['col'].str.pad(width=10, side='left')`    |\n",
    "| `str.slice()`      | Slices each string in the Series/Index by specified positions.                                        | `df['col'].str.slice(start=0, stop=3)`        |\n",
    "| `str.wrap()`       | Wraps each string in the Series/Index at the specified width.                                         | `df['col'].str.wrap(width=10)`                |\n",
    "| `str.get_dummies()`| Converts Series/Index to dummy variables (one-hot encoding).                                          | `df['col'].str.get_dummies(sep=' ')`          |\n"
   ]
  },
  {
   "cell_type": "code",
   "execution_count": 15,
   "id": "48412392-b951-459d-ab64-b192c3be02a2",
   "metadata": {},
   "outputs": [
    {
     "data": {
      "text/html": [
       "<div>\n",
       "<style scoped>\n",
       "    .dataframe tbody tr th:only-of-type {\n",
       "        vertical-align: middle;\n",
       "    }\n",
       "\n",
       "    .dataframe tbody tr th {\n",
       "        vertical-align: top;\n",
       "    }\n",
       "\n",
       "    .dataframe thead th {\n",
       "        text-align: right;\n",
       "    }\n",
       "</style>\n",
       "<table border=\"1\" class=\"dataframe\">\n",
       "  <thead>\n",
       "    <tr style=\"text-align: right;\">\n",
       "      <th></th>\n",
       "      <th>C</th>\n",
       "    </tr>\n",
       "  </thead>\n",
       "  <tbody>\n",
       "    <tr>\n",
       "      <th>0</th>\n",
       "      <td>apple</td>\n",
       "    </tr>\n",
       "    <tr>\n",
       "      <th>1</th>\n",
       "      <td>banana</td>\n",
       "    </tr>\n",
       "    <tr>\n",
       "      <th>2</th>\n",
       "      <td>cherry</td>\n",
       "    </tr>\n",
       "    <tr>\n",
       "      <th>3</th>\n",
       "      <td>date</td>\n",
       "    </tr>\n",
       "  </tbody>\n",
       "</table>\n",
       "</div>"
      ],
      "text/plain": [
       "        C\n",
       "0   apple\n",
       "1  banana\n",
       "2  cherry\n",
       "3    date"
      ]
     },
     "execution_count": 15,
     "metadata": {},
     "output_type": "execute_result"
    }
   ],
   "source": [
    "# Sample DataFrame with string data\n",
    "data = {'C': ['apple', 'banana', 'cherry', 'date']}\n",
    "df_str = pd.DataFrame(data)\n",
    "df_str"
   ]
  },
  {
   "cell_type": "code",
   "execution_count": 11,
   "id": "26c68df6-4106-4ab9-a3f9-f721ab495a13",
   "metadata": {},
   "outputs": [
    {
     "data": {
      "text/html": [
       "<div>\n",
       "<style scoped>\n",
       "    .dataframe tbody tr th:only-of-type {\n",
       "        vertical-align: middle;\n",
       "    }\n",
       "\n",
       "    .dataframe tbody tr th {\n",
       "        vertical-align: top;\n",
       "    }\n",
       "\n",
       "    .dataframe thead th {\n",
       "        text-align: right;\n",
       "    }\n",
       "</style>\n",
       "<table border=\"1\" class=\"dataframe\">\n",
       "  <thead>\n",
       "    <tr style=\"text-align: right;\">\n",
       "      <th></th>\n",
       "      <th>C</th>\n",
       "      <th>C_upper</th>\n",
       "    </tr>\n",
       "  </thead>\n",
       "  <tbody>\n",
       "    <tr>\n",
       "      <th>0</th>\n",
       "      <td>apple</td>\n",
       "      <td>APPLE</td>\n",
       "    </tr>\n",
       "    <tr>\n",
       "      <th>1</th>\n",
       "      <td>banana</td>\n",
       "      <td>BANANA</td>\n",
       "    </tr>\n",
       "    <tr>\n",
       "      <th>2</th>\n",
       "      <td>cherry</td>\n",
       "      <td>CHERRY</td>\n",
       "    </tr>\n",
       "    <tr>\n",
       "      <th>3</th>\n",
       "      <td>date</td>\n",
       "      <td>DATE</td>\n",
       "    </tr>\n",
       "  </tbody>\n",
       "</table>\n",
       "</div>"
      ],
      "text/plain": [
       "        C C_upper\n",
       "0   apple   APPLE\n",
       "1  banana  BANANA\n",
       "2  cherry  CHERRY\n",
       "3    date    DATE"
      ]
     },
     "execution_count": 11,
     "metadata": {},
     "output_type": "execute_result"
    }
   ],
   "source": [
    "# Converting to uppercase\n",
    "df_str['C_upper'] = df_str['C'].str.upper()\n",
    "df_str"
   ]
  },
  {
   "cell_type": "code",
   "execution_count": 12,
   "id": "c33e5fed-e3a4-4899-ba59-566d6b549d5b",
   "metadata": {},
   "outputs": [
    {
     "data": {
      "text/html": [
       "<div>\n",
       "<style scoped>\n",
       "    .dataframe tbody tr th:only-of-type {\n",
       "        vertical-align: middle;\n",
       "    }\n",
       "\n",
       "    .dataframe tbody tr th {\n",
       "        vertical-align: top;\n",
       "    }\n",
       "\n",
       "    .dataframe thead th {\n",
       "        text-align: right;\n",
       "    }\n",
       "</style>\n",
       "<table border=\"1\" class=\"dataframe\">\n",
       "  <thead>\n",
       "    <tr style=\"text-align: right;\">\n",
       "      <th></th>\n",
       "      <th>C</th>\n",
       "      <th>C_upper</th>\n",
       "      <th>C_has_a</th>\n",
       "    </tr>\n",
       "  </thead>\n",
       "  <tbody>\n",
       "    <tr>\n",
       "      <th>0</th>\n",
       "      <td>apple</td>\n",
       "      <td>APPLE</td>\n",
       "      <td>True</td>\n",
       "    </tr>\n",
       "    <tr>\n",
       "      <th>1</th>\n",
       "      <td>banana</td>\n",
       "      <td>BANANA</td>\n",
       "      <td>True</td>\n",
       "    </tr>\n",
       "    <tr>\n",
       "      <th>2</th>\n",
       "      <td>cherry</td>\n",
       "      <td>CHERRY</td>\n",
       "      <td>False</td>\n",
       "    </tr>\n",
       "    <tr>\n",
       "      <th>3</th>\n",
       "      <td>date</td>\n",
       "      <td>DATE</td>\n",
       "      <td>True</td>\n",
       "    </tr>\n",
       "  </tbody>\n",
       "</table>\n",
       "</div>"
      ],
      "text/plain": [
       "        C C_upper  C_has_a\n",
       "0   apple   APPLE     True\n",
       "1  banana  BANANA     True\n",
       "2  cherry  CHERRY    False\n",
       "3    date    DATE     True"
      ]
     },
     "execution_count": 12,
     "metadata": {},
     "output_type": "execute_result"
    }
   ],
   "source": [
    "# Checking if the string contains a substring\n",
    "df_str['C_has_a'] = df_str['C'].str.contains('a')\n",
    "df_str"
   ]
  },
  {
   "cell_type": "markdown",
   "id": "369ab2dd-e9b4-4bd6-9824-07a483cf065f",
   "metadata": {},
   "source": [
    "### 4.4 Melting and Spreading Data"
   ]
  },
  {
   "cell_type": "code",
   "execution_count": 84,
   "id": "2e4aea92-ef89-4cdd-83df-fb171aea10b3",
   "metadata": {},
   "outputs": [
    {
     "name": "stdout",
     "output_type": "stream",
     "text": [
      "Original DataFrame:\n",
      "    id     name  math_score  english_score\n",
      "0   1    Alice          85             80\n",
      "1   2      Bob          90             85\n",
      "2   3  Charlie          95             88\n",
      "\n",
      "Melted DataFrame (wide to long):\n",
      "    id     name        subject  score\n",
      "0   1    Alice     math_score     85\n",
      "1   2      Bob     math_score     90\n",
      "2   3  Charlie     math_score     95\n",
      "3   1    Alice  english_score     80\n",
      "4   2      Bob  english_score     85\n",
      "5   3  Charlie  english_score     88\n",
      "\n",
      "Spread DataFrame (long to wide) using pivot:\n",
      " subject  id     name  english_score  math_score\n",
      "0         1    Alice             80          85\n",
      "1         2      Bob             85          90\n",
      "2         3  Charlie             88          95\n",
      "\n",
      "Spread DataFrame (long to wide) using unstack:\n",
      "    id     name  english_score  math_score\n",
      "0   1    Alice             80          85\n",
      "1   2      Bob             85          90\n",
      "2   3  Charlie             88          95\n"
     ]
    }
   ],
   "source": [
    "# Sample DataFrame\n",
    "data = {\n",
    "    'id': [1, 2, 3],\n",
    "    'name': ['Alice', 'Bob', 'Charlie'],\n",
    "    'math_score': [85, 90, 95],\n",
    "    'english_score': [80, 85, 88]\n",
    "}\n",
    "df = pd.DataFrame(data)\n",
    "print(\"Original DataFrame:\\n\", df)\n",
    "\n",
    "# Melting (wide to long format)\n",
    "df_melted = pd.melt(df, id_vars=['id', 'name'], var_name='subject', value_name='score')\n",
    "print(\"\\nMelted DataFrame (wide to long):\\n\", df_melted)\n",
    "\n",
    "# Spreading (long to wide format) using pivot\n",
    "df_spread = df_melted.pivot(index=['id', 'name'], columns='subject', values='score').reset_index()\n",
    "print(\"\\nSpread DataFrame (long to wide) using pivot:\\n\", df_spread)\n",
    "\n",
    "# Alternative spreading using unstack\n",
    "df_spread_unstack = df_melted.set_index(['id', 'name', 'subject']).unstack().reset_index()\n",
    "df_spread_unstack.columns = ['id', 'name'] + [col[1] for col in df_spread_unstack.columns[2:]]\n",
    "print(\"\\nSpread DataFrame (long to wide) using unstack:\\n\", df_spread_unstack)"
   ]
  },
  {
   "cell_type": "markdown",
   "id": "a800c91b-010a-4244-86fd-e2e1962c79ce",
   "metadata": {},
   "source": [
    "### 4.5 Using Pivot and Pivot Table"
   ]
  },
  {
   "cell_type": "code",
   "execution_count": 85,
   "id": "0e4841cd-dc35-4147-b20d-08d0ae6d5b3d",
   "metadata": {},
   "outputs": [
    {
     "name": "stdout",
     "output_type": "stream",
     "text": [
      "Original DataFrame:\n",
      "          date category  value\n",
      "0  2024-01-01        A     10\n",
      "1  2024-01-01        B     20\n",
      "2  2024-02-01        A     30\n",
      "3  2024-02-01        B     40\n",
      "\n",
      "Pivot DataFrame:\n",
      " category        date   A   B\n",
      "0         2024-01-01  10  20\n",
      "1         2024-02-01  30  40\n",
      "\n",
      "Pivot Table DataFrame with sum aggregation:\n",
      " category        date   A   B\n",
      "0         2024-01-01  10  20\n",
      "1         2024-02-01  30  40\n",
      "\n",
      "Pivot Table DataFrame with multiple aggregations:\n",
      "                 date sum     mean    \n",
      "category               A   B    A   B\n",
      "0         2024-01-01  10  20   10  20\n",
      "1         2024-02-01  30  40   30  40\n"
     ]
    }
   ],
   "source": [
    "# Sample DataFrame\n",
    "data = {\n",
    "    'date': ['2024-01-01', '2024-01-01', '2024-02-01', '2024-02-01'],\n",
    "    'category': ['A', 'B', 'A', 'B'],\n",
    "    'value': [10, 20, 30, 40]\n",
    "}\n",
    "df = pd.DataFrame(data)\n",
    "print(\"Original DataFrame:\\n\", df)\n",
    "\n",
    "# Pivot\n",
    "df_pivot = df.pivot(index='date', columns='category', values='value').reset_index()\n",
    "print(\"\\nPivot DataFrame:\\n\", df_pivot)\n",
    "\n",
    "# Pivot Table with aggregation\n",
    "df_pivot_table = df.pivot_table(index='date', columns='category', values='value', aggfunc='sum').reset_index()\n",
    "print(\"\\nPivot Table DataFrame with sum aggregation:\\n\", df_pivot_table)\n",
    "\n",
    "# Pivot Table with multiple aggregations\n",
    "df_pivot_table_multi = df.pivot_table(index='date', columns='category', values='value', aggfunc=['sum', 'mean']).reset_index()\n",
    "print(\"\\nPivot Table DataFrame with multiple aggregations:\\n\", df_pivot_table_multi)\n"
   ]
  },
  {
   "cell_type": "code",
   "execution_count": null,
   "id": "92836454-395e-4bb1-bd09-0fd265f8b376",
   "metadata": {},
   "outputs": [],
   "source": []
  }
 ],
 "metadata": {
  "kernelspec": {
   "display_name": "Python 3 (ipykernel)",
   "language": "python",
   "name": "python3"
  },
  "language_info": {
   "codemirror_mode": {
    "name": "ipython",
    "version": 3
   },
   "file_extension": ".py",
   "mimetype": "text/x-python",
   "name": "python",
   "nbconvert_exporter": "python",
   "pygments_lexer": "ipython3",
   "version": "3.8.5"
  }
 },
 "nbformat": 4,
 "nbformat_minor": 5
}
