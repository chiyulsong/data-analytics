{
 "cells": [
  {
   "cell_type": "markdown",
   "id": "e641c0dd-bc3b-4014-a25b-bdb60e31bc50",
   "metadata": {},
   "source": [
    "# 04_data_aggregation_and_grouping"
   ]
  },
  {
   "cell_type": "code",
   "execution_count": null,
   "id": "69dbe6ad-222a-4c4f-9a73-0fa719483c61",
   "metadata": {},
   "outputs": [],
   "source": []
  }
 ],
 "metadata": {
  "kernelspec": {
   "display_name": "Python 3 (ipykernel)",
   "language": "python",
   "name": "python3"
  },
  "language_info": {
   "codemirror_mode": {
    "name": "ipython",
    "version": 3
   },
   "file_extension": ".py",
   "mimetype": "text/x-python",
   "name": "python",
   "nbconvert_exporter": "python",
   "pygments_lexer": "ipython3",
   "version": "3.8.5"
  }
 },
 "nbformat": 4,
 "nbformat_minor": 5
}
