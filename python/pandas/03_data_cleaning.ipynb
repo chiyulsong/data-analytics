{
 "cells": [
  {
   "cell_type": "markdown",
   "id": "58bdeb7e-a975-435a-a5ee-d105b1df3ff2",
   "metadata": {},
   "source": [
    "# 03 data cleaning\n",
    "\n",
    "1. handling missing data(isnull, notnull, fillna, dropna)\n",
    "2. data transformation(apply, map, applymap, replace)\n",
    "3. removing duplicates(duplicated, drop_duplicates)\n",
    "4. data type conversion(astype, to_datetime, to_numeric)"
   ]
  },
  {
   "cell_type": "code",
   "execution_count": 17,
   "id": "2abe2c6d-8c95-4786-8f4d-3b0390002fb3",
   "metadata": {},
   "outputs": [],
   "source": [
    "import pandas as pd"
   ]
  },
  {
   "cell_type": "markdown",
   "id": "3bf7c3ff-9643-4cf6-a194-52aaf5e99f8f",
   "metadata": {},
   "source": [
    "## 4. Data Conversion, Computation, and Visualization\n",
    "\n",
    "### 4.1 Converting Data Types"
   ]
  },
  {
   "cell_type": "code",
   "execution_count": 14,
   "id": "b04035a8-5909-492a-9a67-3001cb68e367",
   "metadata": {},
   "outputs": [
    {
     "data": {
      "text/plain": [
       "A    int64\n",
       "B    int32\n",
       "dtype: object"
      ]
     },
     "execution_count": 14,
     "metadata": {},
     "output_type": "execute_result"
    }
   ],
   "source": [
    "import pandas as pd\n",
    "\n",
    "# Sample DataFrame\n",
    "data = {'A': [1, 2, 3, 4], 'B': ['10', '20', '30', '40']}\n",
    "df = pd.DataFrame(data)\n",
    "\n",
    "# Converting column B from string to integer\n",
    "df['B'] = df['B'].astype(int)\n",
    "df.dtypes"
   ]
  },
  {
   "cell_type": "markdown",
   "id": "5c2dd3a0-0013-4c60-9edd-2d4e5e2b656d",
   "metadata": {},
   "source": [
    "### 4.2 Applying Functions\n",
    "- Using `apply()`, `map()`, and `applymap()`"
   ]
  },
  {
   "cell_type": "code",
   "execution_count": 8,
   "id": "783a111b-ad1b-414c-92c5-a744b9a8ca49",
   "metadata": {},
   "outputs": [
    {
     "data": {
      "text/html": [
       "<div>\n",
       "<style scoped>\n",
       "    .dataframe tbody tr th:only-of-type {\n",
       "        vertical-align: middle;\n",
       "    }\n",
       "\n",
       "    .dataframe tbody tr th {\n",
       "        vertical-align: top;\n",
       "    }\n",
       "\n",
       "    .dataframe thead th {\n",
       "        text-align: right;\n",
       "    }\n",
       "</style>\n",
       "<table border=\"1\" class=\"dataframe\">\n",
       "  <thead>\n",
       "    <tr style=\"text-align: right;\">\n",
       "      <th></th>\n",
       "      <th>A</th>\n",
       "      <th>B</th>\n",
       "      <th>A_squared</th>\n",
       "      <th>B_mapped</th>\n",
       "    </tr>\n",
       "  </thead>\n",
       "  <tbody>\n",
       "    <tr>\n",
       "      <th>0</th>\n",
       "      <td>1</td>\n",
       "      <td>10</td>\n",
       "      <td>1</td>\n",
       "      <td>X</td>\n",
       "    </tr>\n",
       "    <tr>\n",
       "      <th>1</th>\n",
       "      <td>2</td>\n",
       "      <td>20</td>\n",
       "      <td>4</td>\n",
       "      <td>Y</td>\n",
       "    </tr>\n",
       "    <tr>\n",
       "      <th>2</th>\n",
       "      <td>3</td>\n",
       "      <td>30</td>\n",
       "      <td>9</td>\n",
       "      <td>Z</td>\n",
       "    </tr>\n",
       "    <tr>\n",
       "      <th>3</th>\n",
       "      <td>4</td>\n",
       "      <td>40</td>\n",
       "      <td>16</td>\n",
       "      <td>W</td>\n",
       "    </tr>\n",
       "  </tbody>\n",
       "</table>\n",
       "</div>"
      ],
      "text/plain": [
       "   A   B  A_squared B_mapped\n",
       "0  1  10          1        X\n",
       "1  2  20          4        Y\n",
       "2  3  30          9        Z\n",
       "3  4  40         16        W"
      ]
     },
     "execution_count": 8,
     "metadata": {},
     "output_type": "execute_result"
    }
   ],
   "source": [
    "# Applying a function to a column using apply()\n",
    "df['A_squared'] = df['A'].apply(lambda x: x ** 2)\n",
    "df"
   ]
  },
  {
   "cell_type": "code",
   "execution_count": 9,
   "id": "21276a48-736d-40e3-a70a-2bd99d8d40b4",
   "metadata": {},
   "outputs": [
    {
     "data": {
      "text/html": [
       "<div>\n",
       "<style scoped>\n",
       "    .dataframe tbody tr th:only-of-type {\n",
       "        vertical-align: middle;\n",
       "    }\n",
       "\n",
       "    .dataframe tbody tr th {\n",
       "        vertical-align: top;\n",
       "    }\n",
       "\n",
       "    .dataframe thead th {\n",
       "        text-align: right;\n",
       "    }\n",
       "</style>\n",
       "<table border=\"1\" class=\"dataframe\">\n",
       "  <thead>\n",
       "    <tr style=\"text-align: right;\">\n",
       "      <th></th>\n",
       "      <th>A</th>\n",
       "      <th>B</th>\n",
       "      <th>A_squared</th>\n",
       "      <th>B_mapped</th>\n",
       "    </tr>\n",
       "  </thead>\n",
       "  <tbody>\n",
       "    <tr>\n",
       "      <th>0</th>\n",
       "      <td>1</td>\n",
       "      <td>10</td>\n",
       "      <td>1</td>\n",
       "      <td>X</td>\n",
       "    </tr>\n",
       "    <tr>\n",
       "      <th>1</th>\n",
       "      <td>2</td>\n",
       "      <td>20</td>\n",
       "      <td>4</td>\n",
       "      <td>Y</td>\n",
       "    </tr>\n",
       "    <tr>\n",
       "      <th>2</th>\n",
       "      <td>3</td>\n",
       "      <td>30</td>\n",
       "      <td>9</td>\n",
       "      <td>Z</td>\n",
       "    </tr>\n",
       "    <tr>\n",
       "      <th>3</th>\n",
       "      <td>4</td>\n",
       "      <td>40</td>\n",
       "      <td>16</td>\n",
       "      <td>W</td>\n",
       "    </tr>\n",
       "  </tbody>\n",
       "</table>\n",
       "</div>"
      ],
      "text/plain": [
       "   A   B  A_squared B_mapped\n",
       "0  1  10          1        X\n",
       "1  2  20          4        Y\n",
       "2  3  30          9        Z\n",
       "3  4  40         16        W"
      ]
     },
     "execution_count": 9,
     "metadata": {},
     "output_type": "execute_result"
    }
   ],
   "source": [
    "# Mapping values in a column using map()\n",
    "df['B_mapped'] = df['B'].map({10: 'X', 20: 'Y', 30: 'Z', 40: 'W'})\n",
    "df"
   ]
  },
  {
   "cell_type": "code",
   "execution_count": null,
   "id": "dddc1846-3936-4a0d-8ec1-4d975543aefb",
   "metadata": {},
   "outputs": [
    {
     "data": {
      "text/html": [
       "<div>\n",
       "<style scoped>\n",
       "    .dataframe tbody tr th:only-of-type {\n",
       "        vertical-align: middle;\n",
       "    }\n",
       "\n",
       "    .dataframe tbody tr th {\n",
       "        vertical-align: top;\n",
       "    }\n",
       "\n",
       "    .dataframe thead th {\n",
       "        text-align: right;\n",
       "    }\n",
       "</style>\n",
       "<table border=\"1\" class=\"dataframe\">\n",
       "  <thead>\n",
       "    <tr style=\"text-align: right;\">\n",
       "      <th></th>\n",
       "      <th>A</th>\n",
       "      <th>B</th>\n",
       "      <th>A_squared</th>\n",
       "      <th>B_mapped</th>\n",
       "    </tr>\n",
       "  </thead>\n",
       "  <tbody>\n",
       "    <tr>\n",
       "      <th>0</th>\n",
       "      <td>1!</td>\n",
       "      <td>10!</td>\n",
       "      <td>1!</td>\n",
       "      <td>X!</td>\n",
       "    </tr>\n",
       "    <tr>\n",
       "      <th>1</th>\n",
       "      <td>2!</td>\n",
       "      <td>20!</td>\n",
       "      <td>4!</td>\n",
       "      <td>Y!</td>\n",
       "    </tr>\n",
       "    <tr>\n",
       "      <th>2</th>\n",
       "      <td>3!</td>\n",
       "      <td>30!</td>\n",
       "      <td>9!</td>\n",
       "      <td>Z!</td>\n",
       "    </tr>\n",
       "    <tr>\n",
       "      <th>3</th>\n",
       "      <td>4!</td>\n",
       "      <td>40!</td>\n",
       "      <td>16!</td>\n",
       "      <td>W!</td>\n",
       "    </tr>\n",
       "  </tbody>\n",
       "</table>\n",
       "</div>"
      ],
      "text/plain": [
       "    A    B A_squared B_mapped\n",
       "0  1!  10!        1!       X!\n",
       "1  2!  20!        4!       Y!\n",
       "2  3!  30!        9!       Z!\n",
       "3  4!  40!       16!       W!"
      ]
     },
     "execution_count": 6,
     "metadata": {},
     "output_type": "execute_result"
    }
   ],
   "source": [
    "# Applying a function to all elements of the DataFrame using applymap()\n",
    "df_applied = df.applymap(lambda x: str(x) + '!')\n",
    "df_applied"
   ]
  },
  {
   "cell_type": "markdown",
   "id": "1c6a3d0e-644b-41d3-a565-cb19889a2176",
   "metadata": {},
   "source": [
    "### 4.3 String Manipulation\n",
    "- Using the `str` accessor for string operations\n",
    "| **Method**         | **Description**                                                                                       | **Example Code**                              |\n",
    "|--------------------|-------------------------------------------------------------------------------------------------------|-----------------------------------------------|\n",
    "| `str.lower()`      | Converts strings in the Series/Index to lowercase.                                                     | `df['col'].str.lower()`                       |\n",
    "| `str.upper()`      | Converts strings in the Series/Index to uppercase.                                                     | `df['col'].str.upper()`                       |\n",
    "| `str.len()`        | Computes the length of each string in the Series/Index.                                                | `df['col'].str.len()`                         |\n",
    "| `str.strip()`      | Removes leading and trailing whitespace.                                                              | `df['col'].str.strip()`                       |\n",
    "| `str.lstrip()`     | Removes leading whitespace.                                                                           | `df['col'].str.lstrip()`                      |\n",
    "| `str.rstrip()`     | Removes trailing whitespace.                                                                          | `df['col'].str.rstrip()`                      |\n",
    "| `str.replace()`    | Replaces occurrences of a string with another string.                                                 | `df['col'].str.replace('old', 'new')`         |\n",
    "| `str.contains()`   | Checks if each string in the Series/Index contains a pattern/regex.                                    | `df['col'].str.contains('pattern')`           |\n",
    "| `str.startswith()` | Checks if each string in the Series/Index starts with a pattern.                                       | `df['col'].str.startswith('prefix')`          |\n",
    "| `str.endswith()`   | Checks if each string in the Series/Index ends with a pattern.                                         | `df['col'].str.endswith('suffix')`            |\n",
    "| `str.find()`       | Returns the lowest index of the substring. Returns -1 if not found.                                    | `df['col'].str.find('substring')`             |\n",
    "| `str.findall()`    | Finds all occurrences of pattern/regex in the Series/Index.                                            | `df['col'].str.findall('pattern')`            |\n",
    "| `str.match()`      | Determines if each string matches a regular expression.                                               | `df['col'].str.match('pattern')`              |\n",
    "| `str.count()`      | Counts occurrences of pattern in each string.                                                         | `df['col'].str.count('pattern')`              |\n",
    "| `str.split()`      | Splits each string by the specified delimiter and returns a list of strings.                          | `df['col'].str.split('delimiter')`            |\n",
    "| `str.cat()`        | Concatenates strings in the Series/Index with the given separator.                                    | `df['col'].str.cat(sep='separator')`          |\n",
    "| `str.get()`        | Extracts element from each component at specified position.                                           | `df['col'].str.get(0)`                        |\n",
    "| `str.join()`       | Joins lists contained as elements in the Series/Index with the passed delimiter.                      | `df['col'].str.join('-')`                     |\n",
    "| `str.extract()`    | Extracts groups from the first match of regular expression pattern.                                   | `df['col'].str.extract('pattern')`            |\n",
    "| `str.extractall()` | Extracts all matches of regular expression pattern.                                                   | `df['col'].str.extractall('pattern')`         |\n",
    "| `str.zfill()`      | Pads each string in the Series/Index with zeros on the left to reach a specified width.                | `df['col'].str.zfill(5)`                      |\n",
    "| `str.pad()`        | Pads each string in the Series/Index with the specified character on the left and/or right sides.     | `df['col'].str.pad(width=10, side='left')`    |\n",
    "| `str.slice()`      | Slices each string in the Series/Index by specified positions.                                        | `df['col'].str.slice(start=0, stop=3)`        |\n",
    "| `str.wrap()`       | Wraps each string in the Series/Index at the specified width.                                         | `df['col'].str.wrap(width=10)`                |\n",
    "| `str.get_dummies()`| Converts Series/Index to dummy variables (one-hot encoding).                                          | `df['col'].str.get_dummies(sep=' ')`          |\n"
   ]
  },
  {
   "cell_type": "code",
   "execution_count": 15,
   "id": "48412392-b951-459d-ab64-b192c3be02a2",
   "metadata": {},
   "outputs": [
    {
     "data": {
      "text/html": [
       "<div>\n",
       "<style scoped>\n",
       "    .dataframe tbody tr th:only-of-type {\n",
       "        vertical-align: middle;\n",
       "    }\n",
       "\n",
       "    .dataframe tbody tr th {\n",
       "        vertical-align: top;\n",
       "    }\n",
       "\n",
       "    .dataframe thead th {\n",
       "        text-align: right;\n",
       "    }\n",
       "</style>\n",
       "<table border=\"1\" class=\"dataframe\">\n",
       "  <thead>\n",
       "    <tr style=\"text-align: right;\">\n",
       "      <th></th>\n",
       "      <th>C</th>\n",
       "    </tr>\n",
       "  </thead>\n",
       "  <tbody>\n",
       "    <tr>\n",
       "      <th>0</th>\n",
       "      <td>apple</td>\n",
       "    </tr>\n",
       "    <tr>\n",
       "      <th>1</th>\n",
       "      <td>banana</td>\n",
       "    </tr>\n",
       "    <tr>\n",
       "      <th>2</th>\n",
       "      <td>cherry</td>\n",
       "    </tr>\n",
       "    <tr>\n",
       "      <th>3</th>\n",
       "      <td>date</td>\n",
       "    </tr>\n",
       "  </tbody>\n",
       "</table>\n",
       "</div>"
      ],
      "text/plain": [
       "        C\n",
       "0   apple\n",
       "1  banana\n",
       "2  cherry\n",
       "3    date"
      ]
     },
     "execution_count": 15,
     "metadata": {},
     "output_type": "execute_result"
    }
   ],
   "source": [
    "# Sample DataFrame with string data\n",
    "data = {'C': ['apple', 'banana', 'cherry', 'date']}\n",
    "df_str = pd.DataFrame(data)\n",
    "df_str"
   ]
  },
  {
   "cell_type": "code",
   "execution_count": 11,
   "id": "26c68df6-4106-4ab9-a3f9-f721ab495a13",
   "metadata": {},
   "outputs": [
    {
     "data": {
      "text/html": [
       "<div>\n",
       "<style scoped>\n",
       "    .dataframe tbody tr th:only-of-type {\n",
       "        vertical-align: middle;\n",
       "    }\n",
       "\n",
       "    .dataframe tbody tr th {\n",
       "        vertical-align: top;\n",
       "    }\n",
       "\n",
       "    .dataframe thead th {\n",
       "        text-align: right;\n",
       "    }\n",
       "</style>\n",
       "<table border=\"1\" class=\"dataframe\">\n",
       "  <thead>\n",
       "    <tr style=\"text-align: right;\">\n",
       "      <th></th>\n",
       "      <th>C</th>\n",
       "      <th>C_upper</th>\n",
       "    </tr>\n",
       "  </thead>\n",
       "  <tbody>\n",
       "    <tr>\n",
       "      <th>0</th>\n",
       "      <td>apple</td>\n",
       "      <td>APPLE</td>\n",
       "    </tr>\n",
       "    <tr>\n",
       "      <th>1</th>\n",
       "      <td>banana</td>\n",
       "      <td>BANANA</td>\n",
       "    </tr>\n",
       "    <tr>\n",
       "      <th>2</th>\n",
       "      <td>cherry</td>\n",
       "      <td>CHERRY</td>\n",
       "    </tr>\n",
       "    <tr>\n",
       "      <th>3</th>\n",
       "      <td>date</td>\n",
       "      <td>DATE</td>\n",
       "    </tr>\n",
       "  </tbody>\n",
       "</table>\n",
       "</div>"
      ],
      "text/plain": [
       "        C C_upper\n",
       "0   apple   APPLE\n",
       "1  banana  BANANA\n",
       "2  cherry  CHERRY\n",
       "3    date    DATE"
      ]
     },
     "execution_count": 11,
     "metadata": {},
     "output_type": "execute_result"
    }
   ],
   "source": [
    "# Converting to uppercase\n",
    "df_str['C_upper'] = df_str['C'].str.upper()\n",
    "df_str"
   ]
  },
  {
   "cell_type": "code",
   "execution_count": 12,
   "id": "c33e5fed-e3a4-4899-ba59-566d6b549d5b",
   "metadata": {},
   "outputs": [
    {
     "data": {
      "text/html": [
       "<div>\n",
       "<style scoped>\n",
       "    .dataframe tbody tr th:only-of-type {\n",
       "        vertical-align: middle;\n",
       "    }\n",
       "\n",
       "    .dataframe tbody tr th {\n",
       "        vertical-align: top;\n",
       "    }\n",
       "\n",
       "    .dataframe thead th {\n",
       "        text-align: right;\n",
       "    }\n",
       "</style>\n",
       "<table border=\"1\" class=\"dataframe\">\n",
       "  <thead>\n",
       "    <tr style=\"text-align: right;\">\n",
       "      <th></th>\n",
       "      <th>C</th>\n",
       "      <th>C_upper</th>\n",
       "      <th>C_has_a</th>\n",
       "    </tr>\n",
       "  </thead>\n",
       "  <tbody>\n",
       "    <tr>\n",
       "      <th>0</th>\n",
       "      <td>apple</td>\n",
       "      <td>APPLE</td>\n",
       "      <td>True</td>\n",
       "    </tr>\n",
       "    <tr>\n",
       "      <th>1</th>\n",
       "      <td>banana</td>\n",
       "      <td>BANANA</td>\n",
       "      <td>True</td>\n",
       "    </tr>\n",
       "    <tr>\n",
       "      <th>2</th>\n",
       "      <td>cherry</td>\n",
       "      <td>CHERRY</td>\n",
       "      <td>False</td>\n",
       "    </tr>\n",
       "    <tr>\n",
       "      <th>3</th>\n",
       "      <td>date</td>\n",
       "      <td>DATE</td>\n",
       "      <td>True</td>\n",
       "    </tr>\n",
       "  </tbody>\n",
       "</table>\n",
       "</div>"
      ],
      "text/plain": [
       "        C C_upper  C_has_a\n",
       "0   apple   APPLE     True\n",
       "1  banana  BANANA     True\n",
       "2  cherry  CHERRY    False\n",
       "3    date    DATE     True"
      ]
     },
     "execution_count": 12,
     "metadata": {},
     "output_type": "execute_result"
    }
   ],
   "source": [
    "# Checking if the string contains a substring\n",
    "df_str['C_has_a'] = df_str['C'].str.contains('a')\n",
    "df_str"
   ]
  },
  {
   "cell_type": "markdown",
   "id": "369ab2dd-e9b4-4bd6-9824-07a483cf065f",
   "metadata": {},
   "source": [
    "### 4.4 Melting and Spreading Data"
   ]
  },
  {
   "cell_type": "code",
   "execution_count": 84,
   "id": "2e4aea92-ef89-4cdd-83df-fb171aea10b3",
   "metadata": {},
   "outputs": [
    {
     "name": "stdout",
     "output_type": "stream",
     "text": [
      "Original DataFrame:\n",
      "    id     name  math_score  english_score\n",
      "0   1    Alice          85             80\n",
      "1   2      Bob          90             85\n",
      "2   3  Charlie          95             88\n",
      "\n",
      "Melted DataFrame (wide to long):\n",
      "    id     name        subject  score\n",
      "0   1    Alice     math_score     85\n",
      "1   2      Bob     math_score     90\n",
      "2   3  Charlie     math_score     95\n",
      "3   1    Alice  english_score     80\n",
      "4   2      Bob  english_score     85\n",
      "5   3  Charlie  english_score     88\n",
      "\n",
      "Spread DataFrame (long to wide) using pivot:\n",
      " subject  id     name  english_score  math_score\n",
      "0         1    Alice             80          85\n",
      "1         2      Bob             85          90\n",
      "2         3  Charlie             88          95\n",
      "\n",
      "Spread DataFrame (long to wide) using unstack:\n",
      "    id     name  english_score  math_score\n",
      "0   1    Alice             80          85\n",
      "1   2      Bob             85          90\n",
      "2   3  Charlie             88          95\n"
     ]
    }
   ],
   "source": [
    "# Sample DataFrame\n",
    "data = {\n",
    "    'id': [1, 2, 3],\n",
    "    'name': ['Alice', 'Bob', 'Charlie'],\n",
    "    'math_score': [85, 90, 95],\n",
    "    'english_score': [80, 85, 88]\n",
    "}\n",
    "df = pd.DataFrame(data)\n",
    "print(\"Original DataFrame:\\n\", df)\n",
    "\n",
    "# Melting (wide to long format)\n",
    "df_melted = pd.melt(df, id_vars=['id', 'name'], var_name='subject', value_name='score')\n",
    "print(\"\\nMelted DataFrame (wide to long):\\n\", df_melted)\n",
    "\n",
    "# Spreading (long to wide format) using pivot\n",
    "df_spread = df_melted.pivot(index=['id', 'name'], columns='subject', values='score').reset_index()\n",
    "print(\"\\nSpread DataFrame (long to wide) using pivot:\\n\", df_spread)\n",
    "\n",
    "# Alternative spreading using unstack\n",
    "df_spread_unstack = df_melted.set_index(['id', 'name', 'subject']).unstack().reset_index()\n",
    "df_spread_unstack.columns = ['id', 'name'] + [col[1] for col in df_spread_unstack.columns[2:]]\n",
    "print(\"\\nSpread DataFrame (long to wide) using unstack:\\n\", df_spread_unstack)"
   ]
  },
  {
   "cell_type": "markdown",
   "id": "a800c91b-010a-4244-86fd-e2e1962c79ce",
   "metadata": {},
   "source": [
    "### 4.5 Using Pivot and Pivot Table"
   ]
  },
  {
   "cell_type": "code",
   "execution_count": 85,
   "id": "0e4841cd-dc35-4147-b20d-08d0ae6d5b3d",
   "metadata": {},
   "outputs": [
    {
     "name": "stdout",
     "output_type": "stream",
     "text": [
      "Original DataFrame:\n",
      "          date category  value\n",
      "0  2024-01-01        A     10\n",
      "1  2024-01-01        B     20\n",
      "2  2024-02-01        A     30\n",
      "3  2024-02-01        B     40\n",
      "\n",
      "Pivot DataFrame:\n",
      " category        date   A   B\n",
      "0         2024-01-01  10  20\n",
      "1         2024-02-01  30  40\n",
      "\n",
      "Pivot Table DataFrame with sum aggregation:\n",
      " category        date   A   B\n",
      "0         2024-01-01  10  20\n",
      "1         2024-02-01  30  40\n",
      "\n",
      "Pivot Table DataFrame with multiple aggregations:\n",
      "                 date sum     mean    \n",
      "category               A   B    A   B\n",
      "0         2024-01-01  10  20   10  20\n",
      "1         2024-02-01  30  40   30  40\n"
     ]
    }
   ],
   "source": [
    "# Sample DataFrame\n",
    "data = {\n",
    "    'date': ['2024-01-01', '2024-01-01', '2024-02-01', '2024-02-01'],\n",
    "    'category': ['A', 'B', 'A', 'B'],\n",
    "    'value': [10, 20, 30, 40]\n",
    "}\n",
    "df = pd.DataFrame(data)\n",
    "print(\"Original DataFrame:\\n\", df)\n",
    "\n",
    "# Pivot\n",
    "df_pivot = df.pivot(index='date', columns='category', values='value').reset_index()\n",
    "print(\"\\nPivot DataFrame:\\n\", df_pivot)\n",
    "\n",
    "# Pivot Table with aggregation\n",
    "df_pivot_table = df.pivot_table(index='date', columns='category', values='value', aggfunc='sum').reset_index()\n",
    "print(\"\\nPivot Table DataFrame with sum aggregation:\\n\", df_pivot_table)\n",
    "\n",
    "# Pivot Table with multiple aggregations\n",
    "df_pivot_table_multi = df.pivot_table(index='date', columns='category', values='value', aggfunc=['sum', 'mean']).reset_index()\n",
    "print(\"\\nPivot Table DataFrame with multiple aggregations:\\n\", df_pivot_table_multi)\n"
   ]
  },
  {
   "cell_type": "code",
   "execution_count": null,
   "id": "3985e47a-8199-48e2-8e6b-9e0d64138833",
   "metadata": {},
   "outputs": [],
   "source": []
  }
 ],
 "metadata": {
  "kernelspec": {
   "display_name": "Python 3 (ipykernel)",
   "language": "python",
   "name": "python3"
  },
  "language_info": {
   "codemirror_mode": {
    "name": "ipython",
    "version": 3
   },
   "file_extension": ".py",
   "mimetype": "text/x-python",
   "name": "python",
   "nbconvert_exporter": "python",
   "pygments_lexer": "ipython3",
   "version": "3.8.5"
  }
 },
 "nbformat": 4,
 "nbformat_minor": 5
}
