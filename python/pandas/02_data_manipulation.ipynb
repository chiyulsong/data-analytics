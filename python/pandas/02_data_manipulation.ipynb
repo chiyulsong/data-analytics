{
 "cells": [
  {
   "cell_type": "markdown",
   "id": "e641c0dd-bc3b-4014-a25b-bdb60e31bc50",
   "metadata": {},
   "source": [
    "# 02 Data Manipulation\n",
    "\n",
    "1. loading data(read)\n",
    "2. indexing and selecting data(loc, iloc, at, iat)\n",
    "3. filtering and sorting(query, sort_values)\n",
    "4. adding and removing column(insert, drop)\n",
    "5. renaming column(rename)"
   ]
  },
  {
   "cell_type": "markdown",
   "id": "b39aed27-5551-4d78-817c-6ade8ccbc616",
   "metadata": {},
   "source": [
    "## 2. indexing and selecting data\n",
    "\n",
    "- The `iloc` method is used to access a group of rows and columns by integer position. It is position-based, which means that you have to specify the position of the rows and columns that you need to filter out.\n",
    "- The `at` method is used to access a single value for a row/column label pair. It is label-based and is very fast for accessing scalar values.\n",
    "- The `iat` method is used to access a single value for a row/column pair by integer position. It is position-based and is very fast for accessing scalar values."
   ]
  },
  {
   "cell_type": "code",
   "execution_count": null,
   "id": "4077dfc1-3a64-4ac3-ac5c-267c138110df",
   "metadata": {},
   "outputs": [],
   "source": []
  }
 ],
 "metadata": {
  "kernelspec": {
   "display_name": "Python 3 (ipykernel)",
   "language": "python",
   "name": "python3"
  },
  "language_info": {
   "codemirror_mode": {
    "name": "ipython",
    "version": 3
   },
   "file_extension": ".py",
   "mimetype": "text/x-python",
   "name": "python",
   "nbconvert_exporter": "python",
   "pygments_lexer": "ipython3",
   "version": "3.8.5"
  }
 },
 "nbformat": 4,
 "nbformat_minor": 5
}
