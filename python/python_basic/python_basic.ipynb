{
 "cells": [
  {
   "cell_type": "markdown",
   "id": "efc7e0e7-f064-4880-879f-8be86d27f332",
   "metadata": {},
   "source": [
    "# Python Basics\n",
    "This document provides a comprehensive overview of the basic concepts and features of the Python programming language. It is designed for beginners who are new to Python and programming in general. The topics covered include variables and data types, conditional statements, loops, file input and output, functions, modules and packages, data structures, and other useful features. Each section includes explanations and example code to help you understand and apply these concepts in your own projects.\n",
    "\n",
    "## 1. Variables and Data Types\n",
    "   - Variables\n",
    "   - Basic Data Types\n",
    "     - Numbers (int, float)\n",
    "     - Strings (str)\n",
    "     - Booleans (bool)\n",
    "     - Lists (list)\n",
    "     - Tuples (tuple)\n",
    "     - Dictionaries (dict)\n",
    "     - Sets (set)\n",
    "\n",
    "## 2. Conditional Statements\n",
    "   - if Statements\n",
    "   - elif Statements\n",
    "   - else Statements\n",
    "   - Nested Conditionals\n",
    "\n",
    "## 3. Loops\n",
    "   - for Loops\n",
    "   - while Loops\n",
    "   - break Statement\n",
    "   - continue Statement\n",
    "   - Nested Loops\n",
    "\n",
    "## 4. File Input and Output\n",
    "   - Opening Files\n",
    "   - Reading Files\n",
    "   - Writing Files\n",
    "   - Closing Files\n",
    "   - Using with Statement for File Handling\n",
    "\n",
    "## Exception\n",
    "    - try, except, else, finally\n",
    "\n",
    "## 5. Functions\n",
    "   - Defining Functions\n",
    "   - Calling Functions\n",
    "   - Arguments and Return Values\n",
    "   - Default Arguments\n",
    "   - Keyword Arguments\n",
    "   - Variable-Length Arguments (`*args`, `**kwargs`)\n",
    "   - Lambda Functions\n",
    "\n",
    "## 6. Modules and Packages\n",
    "   - Importing Modules\n",
    "   - from ... import ... Statement\n",
    "   - Using Standard Libraries\n",
    "   - Installing and Using Packages\n",
    "\n",
    "## 7. Data Structures\n",
    "   - Lists\n",
    "   - Tuples\n",
    "   - Dictionaries\n",
    "   - Sets\n",
    "\n",
    "## 8. Other Useful Features\n",
    "   - List Comprehensions\n",
    "   - Generators\n",
    "   - Decorators\n",
    "   - Iterators\n",
    "\n",
    "## 9. OOP\n",
    "- class\n",
    "- method\n",
    "- 상속\n",
    "- 다형성\n",
    "- 캡슐화"
   ]
  },
  {
   "cell_type": "markdown",
   "id": "2d116a3d-8c69-4d93-a674-4a95f4b12a74",
   "metadata": {},
   "source": [
    "10. 표준 라이브러리\n",
    "문자열 처리: re (정규 표현식)\n",
    "날짜와 시간: datetime\n",
    "수학 연산: math, cmath\n",
    "파일과 디렉토리 경로: os, os.path\n",
    "시스템 관련 기능: sys\n",
    "데이터 직렬화: json, pickle"
   ]
  },
  {
   "cell_type": "code",
   "execution_count": 1,
   "id": "e69d9ed3-06d2-46d4-9106-81c7e05e8309",
   "metadata": {},
   "outputs": [],
   "source": [
    "# Loops"
   ]
  },
  {
   "cell_type": "code",
   "execution_count": 2,
   "id": "0708785b-9ecf-43fd-ba20-9e4757a428ad",
   "metadata": {},
   "outputs": [
    {
     "name": "stdout",
     "output_type": "stream",
     "text": [
      "85\n",
      "90\n",
      "78\n",
      "0\n",
      "1\n",
      "2\n",
      "3\n",
      "4\n"
     ]
    }
   ],
   "source": [
    "# Loops Example\n",
    "scores = [85, 90, 78]\n",
    "\n",
    "for score in scores:\n",
    "    print(score)\n",
    "\n",
    "count = 0\n",
    "while count < 5:\n",
    "    print(count)\n",
    "    count += 1\n"
   ]
  },
  {
   "cell_type": "code",
   "execution_count": null,
   "id": "54a97697-cbac-4cbc-8edd-7ab052f6eec0",
   "metadata": {},
   "outputs": [],
   "source": []
  }
 ],
 "metadata": {
  "kernelspec": {
   "display_name": "Python 3 (ipykernel)",
   "language": "python",
   "name": "python3"
  },
  "language_info": {
   "codemirror_mode": {
    "name": "ipython",
    "version": 3
   },
   "file_extension": ".py",
   "mimetype": "text/x-python",
   "name": "python",
   "nbconvert_exporter": "python",
   "pygments_lexer": "ipython3",
   "version": "3.8.5"
  }
 },
 "nbformat": 4,
 "nbformat_minor": 5
}
